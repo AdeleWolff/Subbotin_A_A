{
 "cells": [
  {
   "cell_type": "code",
   "execution_count": 2,
   "metadata": {
    "collapsed": true
   },
   "outputs": [],
   "source": [
    "#Определение оптимального кол-ва кластеров"
   ]
  },
  {
   "cell_type": "code",
   "execution_count": 1,
   "metadata": {
    "collapsed": true
   },
   "outputs": [],
   "source": [
    "# Общие функции кластеризации\n",
    "from scipy.cluster.hierarchy import *\n",
    "from scipy.spatial.distance import pdist\n",
    "\n",
    "\n",
    "from sklearn import mixture\n",
    "\n",
    "# Для загрузки данных из xls документа\n",
    "import pandas as pd\n",
    "\n",
    "# Для отрисовки графиков\n",
    "from pylab import *"
   ]
  },
  {
   "cell_type": "code",
   "execution_count": 2,
   "metadata": {
    "collapsed": true
   },
   "outputs": [],
   "source": [
    "# Настройка шрифтов для будущих графиков\n",
    "rcParams['font.family'] = 'DejaVu Sans' # Понимает русские буквы\n",
    "rcParams['font.size'] = 16"
   ]
  },
  {
   "cell_type": "code",
   "execution_count": 3,
   "metadata": {},
   "outputs": [
    {
     "name": "stderr",
     "output_type": "stream",
     "text": [
      "C:\\Users\\Aleksandre\\Anaconda2\\lib\\site-packages\\ipykernel_launcher.py:5: DeprecationWarning: \n",
      ".ix is deprecated. Please use\n",
      ".loc for label based indexing or\n",
      ".iloc for positional indexing\n",
      "\n",
      "See the documentation here:\n",
      "http://pandas.pydata.org/pandas-docs/stable/indexing.html#ix-indexer-is-deprecated\n",
      "  \"\"\"\n"
     ]
    }
   ],
   "source": [
    "# Загрузим данные из xls документа\n",
    "data = pd.read_excel('Works.xls')\n",
    "\n",
    "# Выделим данные, начиная с первой колонки\n",
    "data_for_clust =  data.ix[:,1:].as_matrix()"
   ]
  },
  {
   "cell_type": "code",
   "execution_count": 4,
   "metadata": {},
   "outputs": [
    {
     "data": {
      "text/plain": [
       "array([[  58.04597701,   65.59      ,   59.5       ,   76.19047619],\n",
       "       [  23.56321839,   64.        ,   65.5       ,   85.71428571],\n",
       "       [  52.29885057,   62.89      ,   26.7       ,   78.75457875],\n",
       "       [  51.14942529,   61.21      ,   56.4       ,   70.6959707 ],\n",
       "       [  26.43678161,   59.5       ,   64.9       ,   71.79487179],\n",
       "       [  13.2183908 ,   58.46      ,   54.5       ,   64.46886447],\n",
       "       [  32.75862069,   57.        ,   55.6       ,   65.93406593],\n",
       "       [ 100.        ,   56.8       ,   26.4       ,   52.38095238],\n",
       "       [  28.16091954,   55.81      ,   61.7       ,   79.12087912],\n",
       "       [  81.6091954 ,   55.5       ,   47.4       ,   59.70695971],\n",
       "       [  16.09195402,   54.4       ,   57.4       ,   84.61538462],\n",
       "       [   4.59770115,   53.3       ,   47.6       ,   73.62637363],\n",
       "       [  33.33333333,   53.2       ,   30.8       ,   61.17216117],\n",
       "       [  45.40229885,   52.91      ,   71.        ,   78.38827839],\n",
       "       [  18.96551724,   52.83      ,   67.1       ,   79.85347985],\n",
       "       [  78.16091954,   52.81      ,   51.        ,   75.09157509],\n",
       "       [  45.40229885,   52.19      ,   33.9       ,   53.47985348],\n",
       "       [  27.5862069 ,   52.52      ,   73.7       ,   75.09157509],\n",
       "       [  53.44827586,   50.53      ,   45.6       ,   69.23076923],\n",
       "       [  31.6091954 ,   49.36      ,   66.2       ,   80.21978022],\n",
       "       [  95.40229885,   49.11      ,   57.3       ,   76.55677656],\n",
       "       [  29.88505747,   49.1       ,   61.7       ,   76.92307692],\n",
       "       [  29.31034483,   49.07      ,   52.4       ,   75.45787546],\n",
       "       [   8.62068966,   48.35      ,   75.        ,   72.89377289],\n",
       "       [  21.83908046,   47.91      ,   26.5       ,   67.03296703],\n",
       "       [  45.40229885,   47.46      ,   50.        ,   81.68498168],\n",
       "       [  24.71264368,   47.34      ,   48.9       ,   69.23076923],\n",
       "       [  51.72413793,   46.75      ,   68.5       ,   67.76556777],\n",
       "       [  17.81609195,   46.61      ,   67.3       ,  100.        ],\n",
       "       [   7.47126437,   46.41      ,   17.5       ,   77.28937729],\n",
       "       [  30.45977011,   46.34      ,   50.        ,   76.92307692],\n",
       "       [  14.36781609,   46.28      ,   37.3       ,   77.65567766],\n",
       "       [  52.29885057,   46.15      ,   54.6       ,   62.63736264],\n",
       "       [  56.89655172,   45.97      ,   76.1       ,   69.5970696 ],\n",
       "       [  27.5862069 ,   45.96      ,   73.7       ,   79.48717949],\n",
       "       [  29.88505747,   45.86      ,   49.9       ,   61.53846154],\n",
       "       [  13.2183908 ,   45.52      ,   54.3       ,   83.51648352],\n",
       "       [  19.54022989,   45.49      ,   35.5       ,   72.52747253],\n",
       "       [   7.47126437,   45.26      ,   17.3       ,   82.78388278],\n",
       "       [  51.72413793,   45.26      ,   26.8       ,   80.95238095],\n",
       "       [  21.26436782,   44.77      ,   68.6       ,   64.83516484],\n",
       "       [  20.68965517,   44.3       ,   66.2       ,   72.16117216],\n",
       "       [  25.28735632,   44.19      ,   47.3       ,   66.3003663 ],\n",
       "       [  39.08045977,   43.75      ,   62.4       ,   79.12087912],\n",
       "       [  16.66666667,   43.64      ,   65.2       ,   58.24175824],\n",
       "       [  12.06896552,   43.07      ,   19.8       ,   74.72527473],\n",
       "       [  22.4137931 ,   42.77      ,   66.8       ,   73.62637363],\n",
       "       [   8.04597701,   42.74      ,   14.5       ,   70.32967033],\n",
       "       [  47.70114943,   42.53      ,   47.9       ,   64.83516484],\n",
       "       [  24.71264368,   51.95      ,   36.8       ,   65.93406593],\n",
       "       [  22.98850575,   41.83      ,   35.1       ,   75.09157509],\n",
       "       [  22.4137931 ,   41.77      ,   28.2       ,   71.42857143],\n",
       "       [  24.13793103,   41.32      ,   58.2       ,   78.02197802],\n",
       "       [  24.13793103,   40.22      ,   41.9       ,   80.21978022],\n",
       "       [  17.24137931,   40.14      ,   76.3       ,   75.09157509],\n",
       "       [   7.47126437,   39.96      ,   40.4       ,   66.66666667],\n",
       "       [  21.26436782,   39.74      ,   32.3       ,   71.79487179],\n",
       "       [  21.83908046,   39.58      ,   58.6       ,   74.35897436],\n",
       "       [  20.11494253,   39.46      ,   26.3       ,   66.3003663 ],\n",
       "       [  18.96551724,   38.9       ,   25.2       ,   84.61538462],\n",
       "       [  32.18390805,   38.46      ,   46.9       ,   87.17948718],\n",
       "       [   9.1954023 ,   37.74      ,   38.3       ,   73.62637363],\n",
       "       [   9.1954023 ,   36.6       ,   74.6       ,   75.45787546],\n",
       "       [  43.67816092,   36.17      ,   16.4       ,   62.27106227],\n",
       "       [  17.81609195,   35.95      ,   40.2       ,   74.72527473],\n",
       "       [  20.11494253,   35.61      ,   42.6       ,   64.1025641 ],\n",
       "       [  20.68965517,   35.51      ,   67.3       ,   71.42857143],\n",
       "       [  22.98850575,   35.15      ,   88.9       ,   74.72527473],\n",
       "       [  17.81609195,   34.61      ,   51.1       ,   78.75457875],\n",
       "       [  20.68965517,   33.69      ,   72.5       ,   72.16117216],\n",
       "       [  27.5862069 ,   31.54      ,   38.8       ,   57.50915751],\n",
       "       [  15.51724138,   28.78      ,   26.5       ,   67.03296703],\n",
       "       [   2.29885057,   27.72      ,   10.6       ,   81.68498168],\n",
       "       [   9.1954023 ,   27.21      ,   69.        ,   64.1025641 ],\n",
       "       [  24.13793103,   27.17      ,   21.        ,   80.21978022],\n",
       "       [  10.34482759,   25.91      ,   41.9       ,   62.27106227],\n",
       "       [   4.59770115,   25.16      ,   50.7       ,   88.64468864],\n",
       "       [  17.24137931,   25.03      ,   69.6       ,   75.09157509],\n",
       "       [  12.64367816,   19.53      ,   85.8       ,   74.35897436],\n",
       "       [   6.32183908,   13.96      ,   31.9       ,   66.3003663 ]])"
      ]
     },
     "execution_count": 4,
     "metadata": {},
     "output_type": "execute_result"
    }
   ],
   "source": [
    "#Наши ланные\n",
    "data_for_clust"
   ]
  },
  {
   "cell_type": "code",
   "execution_count": 5,
   "metadata": {
    "collapsed": true
   },
   "outputs": [],
   "source": [
    "# Вычислим расстояния между каждым набором данных,\n",
    "# Вычисляется евклидово расстояние (по умолчанию)\n",
    "data_dist = pdist(data_for_clust, 'euclidean')\n",
    "\n",
    "# Объеденеие элементов в кластеры\n",
    "data_linkage = linkage(data_dist, method='average')"
   ]
  },
  {
   "cell_type": "code",
   "execution_count": 6,
   "metadata": {},
   "outputs": [
    {
     "data": {
      "text/plain": [
       "array([ 36.30828679,  33.50722436,  10.32213235, ...,  17.73035701,\n",
       "        41.71758156,  55.14654761])"
      ]
     },
     "execution_count": 6,
     "metadata": {},
     "output_type": "execute_result"
    }
   ],
   "source": [
    "data_dist"
   ]
  },
  {
   "cell_type": "code",
   "execution_count": 7,
   "metadata": {},
   "outputs": [
    {
     "data": {
      "text/plain": [
       "array([[  41.        ,   46.        ,    2.7964919 ,    2.        ],\n",
       "       [  22.        ,   30.        ,    4.084225  ,    2.        ],\n",
       "       [  26.        ,   42.        ,    4.62601945,    2.        ],\n",
       "       [  52.        ,   57.        ,    4.67866539,    2.        ],\n",
       "       [  51.        ,   56.        ,    4.73141146,    2.        ],\n",
       "       [  66.        ,   69.        ,    5.55779667,    2.        ],\n",
       "       [  29.        ,   38.        ,    5.61712477,    2.        ],\n",
       "       [  37.        ,   50.        ,    5.65869494,    2.        ],\n",
       "       [  19.        ,   21.        ,    5.84452772,    2.        ],\n",
       "       [  84.        ,   87.        ,    7.13271542,    4.        ],\n",
       "       [  55.        ,   61.        ,    7.79413706,    2.        ],\n",
       "       [  17.        ,   34.        ,    7.89651429,    2.        ],\n",
       "       [   8.        ,   88.        ,    7.96281554,    3.        ],\n",
       "       [  45.        ,   47.        ,    7.98152081,    2.        ],\n",
       "       [  35.        ,   82.        ,    8.37257592,    3.        ],\n",
       "       [  40.        ,   80.        ,    8.50505887,    3.        ],\n",
       "       [  24.        ,   58.        ,    8.65747396,    2.        ],\n",
       "       [  54.        ,   62.        ,    8.96066527,    2.        ],\n",
       "       [  32.        ,   48.        ,    9.16316487,    2.        ],\n",
       "       [  27.        ,   33.        ,    9.40620345,    2.        ],\n",
       "       [  86.        ,   93.        ,    9.49120203,    4.        ],\n",
       "       [  53.        ,   64.        ,    9.55395939,    2.        ],\n",
       "       [  10.        ,   36.        ,    9.89592589,    2.        ],\n",
       "       [   0.        ,    3.        ,   10.32213235,    2.        ],\n",
       "       [  89.        ,   96.        ,   10.43336193,    6.        ],\n",
       "       [  85.        ,   95.        ,   10.88196421,    5.        ],\n",
       "       [  68.        ,   83.        ,   11.22534415,    3.        ],\n",
       "       [  65.        ,   70.        ,   11.41480187,    2.        ],\n",
       "       [  18.        ,   98.        ,   11.53489716,    3.        ],\n",
       "       [  12.        ,   49.        ,   11.5997641 ,    2.        ],\n",
       "       [   4.        ,   92.        ,   11.90229601,    4.        ],\n",
       "       [  23.        ,   97.        ,   12.11114943,    3.        ],\n",
       "       [  81.        ,   94.        ,   12.1422183 ,    5.        ],\n",
       "       [  31.        ,  101.        ,   12.14514413,    3.        ],\n",
       "       [  14.        ,   91.        ,   12.35640903,    3.        ],\n",
       "       [ 110.        ,  114.        ,   12.83243256,    7.        ],\n",
       "       [  73.        ,   77.        ,   13.80610403,    2.        ],\n",
       "       [  13.        ,   43.        ,   14.08431586,    2.        ],\n",
       "       [ 104.        ,  113.        ,   14.15493197,    9.        ],\n",
       "       [  59.        ,   74.        ,   14.18830865,    2.        ],\n",
       "       [ 105.        ,  111.        ,   14.92355494,    8.        ],\n",
       "       [   6.        ,  112.        ,   14.98210671,    6.        ],\n",
       "       [   5.        ,   11.        ,   15.24506032,    2.        ],\n",
       "       [  75.        ,   90.        ,   15.95097006,    3.        ],\n",
       "       [   9.        ,   15.        ,   16.39430075,    2.        ],\n",
       "       [ 102.        ,  106.        ,   16.42507177,    5.        ],\n",
       "       [   1.        ,  115.        ,   16.60088107,    8.        ],\n",
       "       [  25.        ,   60.        ,   17.19085356,    2.        ],\n",
       "       [  44.        ,  120.        ,   17.20054868,    9.        ],\n",
       "       [   2.        ,   39.        ,   17.77603806,    2.        ],\n",
       "       [  71.        ,  123.        ,   18.04951691,    4.        ],\n",
       "       [  99.        ,  117.        ,   18.42221049,    4.        ],\n",
       "       [ 107.        ,  130.        ,   18.63816759,    6.        ],\n",
       "       [ 109.        ,  118.        ,   18.69275883,   11.        ],\n",
       "       [  67.        ,   78.        ,   18.99326285,    2.        ],\n",
       "       [ 116.        ,  128.        ,   19.06187589,   11.        ],\n",
       "       [ 121.        ,  125.        ,   19.6974141 ,   11.        ],\n",
       "       [ 132.        ,  133.        ,   20.46059035,   17.        ],\n",
       "       [  72.        ,  100.        ,   20.54194937,    5.        ],\n",
       "       [ 119.        ,  138.        ,   21.40903802,    7.        ],\n",
       "       [ 126.        ,  136.        ,   21.45761474,   19.        ],\n",
       "       [  20.        ,  124.        ,   21.77087921,    3.        ],\n",
       "       [ 103.        ,  108.        ,   21.88374515,    5.        ],\n",
       "       [ 131.        ,  142.        ,   24.20096503,    9.        ],\n",
       "       [ 135.        ,  140.        ,   24.37685322,   30.        ],\n",
       "       [  16.        ,   63.        ,   25.36037073,    2.        ],\n",
       "       [ 137.        ,  139.        ,   26.67791912,   24.        ],\n",
       "       [ 122.        ,  144.        ,   26.8588415 ,   32.        ],\n",
       "       [ 127.        ,  143.        ,   27.13762342,   11.        ],\n",
       "       [ 129.        ,  145.        ,   29.45531791,    4.        ],\n",
       "       [  28.        ,  147.        ,   30.73974096,   33.        ],\n",
       "       [  76.        ,   79.        ,   31.32285735,    2.        ],\n",
       "       [ 146.        ,  151.        ,   33.8874781 ,   26.        ],\n",
       "       [ 148.        ,  150.        ,   34.7974475 ,   44.        ],\n",
       "       [   7.        ,  141.        ,   36.4349795 ,    4.        ],\n",
       "       [ 134.        ,  153.        ,   38.95332556,   46.        ],\n",
       "       [ 149.        ,  152.        ,   40.73794405,   30.        ],\n",
       "       [ 155.        ,  156.        ,   42.69280113,   76.        ],\n",
       "       [ 154.        ,  157.        ,   70.64892018,   80.        ]])"
      ]
     },
     "execution_count": 7,
     "metadata": {},
     "output_type": "execute_result"
    }
   ],
   "source": [
    "data_linkage"
   ]
  },
  {
   "cell_type": "code",
   "execution_count": 8,
   "metadata": {
    "collapsed": true
   },
   "outputs": [],
   "source": [
    "def wgss(data, groups):\n",
    "    _data = np.array(data)\n",
    "    res = 0.0\n",
    "    for cluster in groups:\n",
    "        inclust = _data[np.array(groups) == cluster]\n",
    "        meanval = np.mean(inclust, axis=0)\n",
    "        res += np.sum((inclust - meanval) ** 2)\n",
    "    return res"
   ]
  },
  {
   "cell_type": "code",
   "execution_count": 9,
   "metadata": {},
   "outputs": [
    {
     "data": {
      "image/png": "[encoded data removed]",
      "text/plain": [
       "<matplotlib.figure.Figure at 0xbc18eb8>"
      ]
     },
     "metadata": {},
     "output_type": "display_data"
    }
   ],
   "source": [
    "elbow = [np.nan, wgss(data_for_clust, [1]*len(data_for_clust[:,1]))]\n",
    "for k in range(2, 20):\n",
    "    groups = fcluster(data_linkage, k, criterion='maxclust')\n",
    "    elbow.append(wgss(data_for_clust, groups))\n",
    "\n",
    "fig = figure(figsize=(16, 12))\n",
    "ax = fig.add_subplot('121') # 2 графика в строке, выбираем первый график\n",
    "elbow = np.array(elbow) \n",
    "ax.plot(elbow/np.nanmax(elbow),'o', ls='solid')\n",
    "ax.set_xlim([0, 20])\n",
    "ax.set_ylim([0, 1.2])\n",
    "ax.set_title(u'Сумма внутригрупповых вариаций')\n",
    "ax.set_xlabel(u'Число кластеров')\n",
    "\n",
    "ax1 = fig.add_subplot('122') # выбираем второй график в строке\n",
    "\n",
    "ax1.plot((elbow[1]-elbow)/np.nanmax(elbow),'o', ls='solid') \n",
    "ax1.set_xlim([0, 20])\n",
    "ax1.set_ylim([0, 1.2])\n",
    "ax1.set_xlabel(u'Число кластеров')\n",
    "ax1.set_title(u'Доля объясняемой вариации')\n",
    "\n",
    "plt.show()"
   ]
  },
  {
   "cell_type": "code",
   "execution_count": null,
   "metadata": {
    "collapsed": true
   },
   "outputs": [],
   "source": [
    "#слева – изменение суммы внутригрупповых вариаций, справа – доля внутригрупповой вариации данных относительно общей их вариации.\n",
    "#оптимальные значения 1<k<9;k=15;k=13"
   ]
  },
  {
   "cell_type": "code",
   "execution_count": null,
   "metadata": {
    "collapsed": true
   },
   "outputs": [],
   "source": []
  },
  {
   "cell_type": "code",
   "execution_count": null,
   "metadata": {
    "collapsed": true
   },
   "outputs": [],
   "source": []
  },
  {
   "cell_type": "code",
   "execution_count": null,
   "metadata": {
    "collapsed": true
   },
   "outputs": [],
   "source": []
  },
  {
   "cell_type": "code",
   "execution_count": null,
   "metadata": {
    "collapsed": true
   },
   "outputs": [],
   "source": []
  },
  {
   "cell_type": "code",
   "execution_count": null,
   "metadata": {
    "collapsed": true
   },
   "outputs": [],
   "source": []
  },
  {
   "cell_type": "code",
   "execution_count": null,
   "metadata": {
    "collapsed": true
   },
   "outputs": [],
   "source": []
  },
  {
   "cell_type": "code",
   "execution_count": null,
   "metadata": {
    "collapsed": true
   },
   "outputs": [],
   "source": []
  },
  {
   "cell_type": "code",
   "execution_count": null,
   "metadata": {
    "collapsed": true
   },
   "outputs": [],
   "source": []
  },
  {
   "cell_type": "code",
   "execution_count": null,
   "metadata": {
    "collapsed": true
   },
   "outputs": [],
   "source": []
  },
  {
   "cell_type": "code",
   "execution_count": null,
   "metadata": {
    "collapsed": true
   },
   "outputs": [],
   "source": []
  },
  {
   "cell_type": "code",
   "execution_count": 11,
   "metadata": {
    "collapsed": true
   },
   "outputs": [],
   "source": [
    "#k-means кластеризация"
   ]
  },
  {
   "cell_type": "code",
   "execution_count": 12,
   "metadata": {},
   "outputs": [
    {
     "name": "stdout",
     "output_type": "stream",
     "text": [
      "                                    Republic     Culture  lvl_live  Mdeical  \\\n",
      "0                       Республика Татарстан   58.045977     65.59     59.5   \n",
      "1                       Белгородская область   23.563218     64.00     65.5   \n",
      "2                         Краснодарский край   52.298851     62.89     26.7   \n",
      "3                        Воронежская область   51.149425     61.21     56.4   \n",
      "4                           Липецкая область   26.436782     59.50     64.9   \n",
      "5   Ханты-Мансийский авторонмый округ - Югра   13.218391     58.46     54.5   \n",
      "6                    Калининградская область   32.758621     57.00     55.6   \n",
      "7                       Свердловская область  100.000000     56.80     26.4   \n",
      "8                          Тюменская область   28.160920     55.81     61.7   \n",
      "9                      Нижегородская область   81.609195     55.50     47.4   \n",
      "10                           Курская область   16.091954     54.40     57.4   \n",
      "11           Ямало-Ненецкий автономный округ    4.597701     53.30     47.6   \n",
      "12                          Тульская область   33.333333     53.20     30.8   \n",
      "13                         Ростовкая область   45.402299     52.91     71.0   \n",
      "14                          Калужкая область   18.965517     52.83     67.1   \n",
      "15                         Самарская область   78.160920     52.81     51.0   \n",
      "16                       Челябинская область   45.402299     52.19     33.9   \n",
      "17                       Ставропольский край   27.586207     52.52     73.7   \n",
      "18                   Республика Башкортостан   53.448276     50.53     45.6   \n",
      "19                         Рязанская область   31.609195     49.36     66.2   \n",
      "20                     Новосибирская область   95.402299     49.11     57.3   \n",
      "21                        Пензенская область   29.885057     49.10     61.7   \n",
      "22                       Ярославская область   29.310345     49.07     52.4   \n",
      "23                         Республика Адыгея    8.620690     48.35     75.0   \n",
      "24                          Хабаровский край   21.839080     47.91     26.5   \n",
      "25                       Ульяновская область   45.402299     47.46     50.0   \n",
      "26                      Владимирская область   24.712644     47.34     48.9   \n",
      "27                       Саратовская область   51.724138     46.75     68.5   \n",
      "28                        Тамбовская область   17.816092     46.61     67.3   \n",
      "29                           Камчатский край    7.471264     46.41     17.5   \n",
      "..                                       ...         ...       ...      ...   \n",
      "50                      Кемеросвская область   22.988506     41.83     35.1   \n",
      "51                      Новгородская область   22.413793     41.77     28.2   \n",
      "52                       Костромская область   24.137931     41.32     58.2   \n",
      "53                       Вологодская область   24.137931     40.22     41.9   \n",
      "54                         Кировская область   17.241379     40.14     76.3   \n",
      "55                          Амурская область    7.471264     39.96     40.4   \n",
      "56                         Псковская область   21.264368     39.74     32.3   \n",
      "57                       Республика Марий Эл   21.839080     39.58     58.6   \n",
      "58                          Тверская область   20.114943     39.46     26.3   \n",
      "59                           Республика Коми   18.965517     38.90     25.2   \n",
      "60                            Алтайский край   32.183908     38.46     46.9   \n",
      "61                 Ненецкий автономный округ    9.195402     37.74     38.3   \n",
      "62                      Чеченская Республика    9.195402     36.60     74.6   \n",
      "63                          Иркуткая область   43.678161     36.17     16.4   \n",
      "64                        Республика Карелия   17.816092     35.95     40.2   \n",
      "65                           Республика Саха   20.114943     35.61     42.6   \n",
      "66       Республика Северная Осетия - Алания   20.689655     35.51     67.3   \n",
      "67                       Республика Дагестан   22.988506     35.15     88.9   \n",
      "68                     Архангельская область   17.816092     34.61     51.1   \n",
      "69           Кабардино-Балкарская Республика   20.689655     33.69     72.5   \n",
      "70                        Республика Бурятия   27.586207     31.54     38.8   \n",
      "71                        Курганская область   15.517241     28.78     26.5   \n",
      "72                Чукотский автономный округ    2.298851     27.72     10.6   \n",
      "73                       Республика Калмыкия    9.195402     27.21     69.0   \n",
      "74              Еврейская автономная область   24.137931     27.17     21.0   \n",
      "75                        Забайкальский край   10.344828     25.91     41.9   \n",
      "76                          Республика Алтай    4.597701     25.16     50.7   \n",
      "77           Карачаево-Черкесская Республика   17.241379     25.03     69.6   \n",
      "78                      Республика Ингушетия   12.643678     19.53     85.8   \n",
      "79                           Республика Тыва    6.321839     13.96     31.9   \n",
      "\n",
      "       Ecology  cluster  \n",
      "0    76.190476        1  \n",
      "1    85.714286        2  \n",
      "2    78.754579        1  \n",
      "3    70.695971        1  \n",
      "4    71.794872        2  \n",
      "5    64.468864        8  \n",
      "6    65.934066        8  \n",
      "7    52.380952        4  \n",
      "8    79.120879        2  \n",
      "9    59.706960        4  \n",
      "10   84.615385        2  \n",
      "11   73.626374       10  \n",
      "12   61.172161        8  \n",
      "13   78.388278        2  \n",
      "14   79.853480        2  \n",
      "15   75.091575        1  \n",
      "16   53.479853        8  \n",
      "17   75.091575        2  \n",
      "18   69.230769        6  \n",
      "19   80.219780        2  \n",
      "20   76.556777        1  \n",
      "21   76.923077        2  \n",
      "22   75.457875       10  \n",
      "23   72.893773        7  \n",
      "24   67.032967        0  \n",
      "25   81.684982        2  \n",
      "26   69.230769        8  \n",
      "27   67.765568        6  \n",
      "28  100.000000        2  \n",
      "29   77.289377        0  \n",
      "..         ...      ...  \n",
      "50   75.091575        0  \n",
      "51   71.428571        0  \n",
      "52   78.021978       10  \n",
      "53   80.219780       10  \n",
      "54   75.091575        7  \n",
      "55   66.666667        0  \n",
      "56   71.794872        0  \n",
      "57   74.358974       10  \n",
      "58   66.300366        0  \n",
      "59   84.615385        9  \n",
      "60   87.179487       10  \n",
      "61   73.626374        0  \n",
      "62   75.457875        7  \n",
      "63   62.271062        5  \n",
      "64   74.725275        0  \n",
      "65   64.102564        5  \n",
      "66   71.428571        7  \n",
      "67   74.725275        7  \n",
      "68   78.754579       10  \n",
      "69   72.161172        7  \n",
      "70   57.509158        5  \n",
      "71   67.032967        5  \n",
      "72   81.684982        9  \n",
      "73   64.102564        3  \n",
      "74   80.219780        9  \n",
      "75   62.271062        5  \n",
      "76   88.644689        9  \n",
      "77   75.091575        3  \n",
      "78   74.358974        3  \n",
      "79   66.300366        5  \n",
      "\n",
      "[80 rows x 6 columns]\n",
      "[[-0.53157879 -0.13370266 -1.11374606  0.07409963]\n",
      " [ 1.99067091  1.42665496  0.03278585  0.30767051]\n",
      " [ 0.05318608  0.78590461  0.82754124  0.9694926 ]\n",
      " [-0.76425143 -1.98542051  1.3697427  -0.20973335]\n",
      " [ 3.20487018  1.21120975 -0.68836715 -2.04282134]\n",
      " [-0.37809305 -1.51541535 -0.89924648 -1.17062625]\n",
      " [ 1.24572739  0.24269823  0.4867647  -0.7389636 ]\n",
      " [-0.50029507 -0.3766351   1.26716907 -0.05204837]\n",
      " [-0.03429803  0.64339017 -0.14050326 -1.2100475 ]\n",
      " [-0.79113588 -1.4087012  -1.23276165  1.31660806]\n",
      " [-0.30803056 -0.07751586  0.08938237  0.69695533]]\n"
     ]
    }
   ],
   "source": [
    "import pandas as pd\n",
    "from sklearn.cluster import KMeans\n",
    "from sklearn.preprocessing import MinMaxScaler, StandardScaler\n",
    "  \n",
    "# read data (drop last empty column, caused by an extra (last) colon in the header)\n",
    "data = pd.read_excel('Works.xls').dropna(axis=1, how='all')\n",
    "  \n",
    "# normalize data\n",
    "scaler = StandardScaler()\n",
    "X = scaler.fit_transform(data.drop('Republic', 1))\n",
    "  \n",
    "# clustering\n",
    "n_clusters = 11\n",
    "km = KMeans(n_clusters=n_clusters)\n",
    "  \n",
    "# fit & predict clusters\n",
    "data['cluster'] = km.fit_predict(X)\n",
    "  \n",
    "# results - we should have 11 clusters\n",
    "print(data[:80])\n",
    "  \n",
    "# cluster's centroids\n",
    "print(km.cluster_centers_)"
   ]
  },
  {
   "cell_type": "code",
   "execution_count": 18,
   "metadata": {},
   "outputs": [
    {
     "ename": "TypeError",
     "evalue": "Mismatch between array dtype ('object') and format specifier ('%.18e;%.18e;%.18e;%.18e;%.18e;%.18e')",
     "output_type": "error",
     "traceback": [
      "\u001b[1;31m---------------------------------------------------------------------------\u001b[0m",
      "\u001b[1;31mTypeError\u001b[0m                                 Traceback (most recent call last)",
      "\u001b[1;32m<ipython-input-18-c145a4dab198>\u001b[0m in \u001b[0;36m<module>\u001b[1;34m()\u001b[0m\n\u001b[0;32m      1\u001b[0m \u001b[1;32mimport\u001b[0m \u001b[0mnumpy\u001b[0m \u001b[1;32mas\u001b[0m \u001b[0mnp\u001b[0m\u001b[1;33m\u001b[0m\u001b[0m\n\u001b[1;32m----> 2\u001b[1;33m \u001b[0mnp\u001b[0m\u001b[1;33m.\u001b[0m\u001b[0msavetxt\u001b[0m\u001b[1;33m(\u001b[0m\u001b[1;34m'Data.csv'\u001b[0m\u001b[1;33m,\u001b[0m\u001b[0mdata\u001b[0m\u001b[1;33m,\u001b[0m\u001b[0mdelimiter\u001b[0m\u001b[1;33m=\u001b[0m\u001b[1;34m';'\u001b[0m\u001b[1;33m)\u001b[0m\u001b[1;33m\u001b[0m\u001b[0m\n\u001b[0m",
      "\u001b[1;32mC:\\Users\\Aleksandre\\Anaconda2\\lib\\site-packages\\numpy\\lib\\npyio.pyc\u001b[0m in \u001b[0;36msavetxt\u001b[1;34m(fname, X, fmt, delimiter, newline, header, footer, comments)\u001b[0m\n\u001b[0;32m   1256\u001b[0m                     raise TypeError(\"Mismatch between array dtype ('%s') and \"\n\u001b[0;32m   1257\u001b[0m                                     \u001b[1;34m\"format specifier ('%s')\"\u001b[0m\u001b[1;33m\u001b[0m\u001b[0m\n\u001b[1;32m-> 1258\u001b[1;33m                                     % (str(X.dtype), format))\n\u001b[0m\u001b[0;32m   1259\u001b[0m         \u001b[1;32mif\u001b[0m \u001b[0mlen\u001b[0m\u001b[1;33m(\u001b[0m\u001b[0mfooter\u001b[0m\u001b[1;33m)\u001b[0m \u001b[1;33m>\u001b[0m \u001b[1;36m0\u001b[0m\u001b[1;33m:\u001b[0m\u001b[1;33m\u001b[0m\u001b[0m\n\u001b[0;32m   1260\u001b[0m             \u001b[0mfooter\u001b[0m \u001b[1;33m=\u001b[0m \u001b[0mfooter\u001b[0m\u001b[1;33m.\u001b[0m\u001b[0mreplace\u001b[0m\u001b[1;33m(\u001b[0m\u001b[1;34m'\\n'\u001b[0m\u001b[1;33m,\u001b[0m \u001b[1;34m'\\n'\u001b[0m \u001b[1;33m+\u001b[0m \u001b[0mcomments\u001b[0m\u001b[1;33m)\u001b[0m\u001b[1;33m\u001b[0m\u001b[0m\n",
      "\u001b[1;31mTypeError\u001b[0m: Mismatch between array dtype ('object') and format specifier ('%.18e;%.18e;%.18e;%.18e;%.18e;%.18e')"
     ]
    }
   ],
   "source": []
  },
  {
   "cell_type": "code",
   "execution_count": null,
   "metadata": {
    "collapsed": true
   },
   "outputs": [],
   "source": []
  },
  {
   "cell_type": "code",
   "execution_count": null,
   "metadata": {
    "collapsed": true
   },
   "outputs": [],
   "source": []
  },
  {
   "cell_type": "code",
   "execution_count": null,
   "metadata": {
    "collapsed": true
   },
   "outputs": [],
   "source": []
  },
  {
   "cell_type": "code",
   "execution_count": null,
   "metadata": {
    "collapsed": true
   },
   "outputs": [],
   "source": []
  },
  {
   "cell_type": "code",
   "execution_count": null,
   "metadata": {
    "collapsed": true
   },
   "outputs": [],
   "source": []
  }
 ],
 "metadata": {
  "kernelspec": {
   "display_name": "Python 2",
   "language": "python",
   "name": "python2"
  },
  "language_info": {
   "codemirror_mode": {
    "name": "ipython",
    "version": 2
   },
   "file_extension": ".py",
   "mimetype": "text/x-python",
   "name": "python",
   "nbconvert_exporter": "python",
   "pygments_lexer": "ipython2",
   "version": "2.7.14"
  }
 },
 "nbformat": 4,
 "nbformat_minor": 2
}
