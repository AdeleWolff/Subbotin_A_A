{
 "cells": [
  {
   "cell_type": "code",
   "execution_count": 9,
   "metadata": {
    "collapsed": true
   },
   "outputs": [],
   "source": [
    "import math"
   ]
  },
  {
   "cell_type": "code",
   "execution_count": 1,
   "metadata": {},
   "outputs": [
    {
     "name": "stdout",
     "output_type": "stream",
     "text": [
      "28\n",
      "четное\n",
      "кратно 4\n"
     ]
    }
   ],
   "source": [
    "#1. Дано натуральное число. Определить, будет ли это число: чётным, кратным\n",
    "#4.\n",
    "x=int (input())\n",
    "\n",
    "if x%2==0 :\n",
    "    print ('четное')\n",
    "else:\n",
    "    print ('нечетное')\n",
    "if x%4==0 :\n",
    "    print ('кратно 4')\n",
    "else:\n",
    "    print ('не кратно 4')\n"
   ]
  },
  {
   "cell_type": "code",
   "execution_count": 2,
   "metadata": {},
   "outputs": [
    {
     "name": "stdout",
     "output_type": "stream",
     "text": [
      "27\n",
      "нечетное\n",
      "не кратно 5\n"
     ]
    }
   ],
   "source": [
    "#2. Дано натуральное число. Определить, будет ли это число: нечётным, крат-\n",
    "#ным 5.\n",
    "x=int (input())\n",
    "\n",
    "if x%2==1 :\n",
    "    print ('нечетное')\n",
    "else:\n",
    "    print ('четное')\n",
    "if x%5==0 :\n",
    "    print ('кратно 5')\n",
    "else:\n",
    "    print ('не кратно 5')\n"
   ]
  },
  {
   "cell_type": "code",
   "execution_count": 3,
   "metadata": {},
   "outputs": [
    {
     "name": "stdout",
     "output_type": "stream",
     "text": [
      "21\n",
      "нечетное\n",
      "кратно 7\n"
     ]
    }
   ],
   "source": [
    "#3. Дано натуральное число. Определить, будет ли это число: нечётным, крат-\n",
    "#ным 7.\n",
    "x=int (input())\n",
    "\n",
    "if x%2==1 :\n",
    "    print ('нечетное')\n",
    "else:\n",
    "    print ('четное')\n",
    "if x%7==0 :\n",
    "    print ('кратно 7')\n",
    "else:\n",
    "    print ('не кратно 7')\n"
   ]
  },
  {
   "cell_type": "code",
   "execution_count": 5,
   "metadata": {},
   "outputs": [
    {
     "name": "stdout",
     "output_type": "stream",
     "text": [
      "101\n",
      "нечетное\n",
      "не кратно 10\n"
     ]
    }
   ],
   "source": [
    "#4. Дано натуральное число. Определить, будет ли это число: чётным, кратным\n",
    "#10.\n",
    "x=int (input())\n",
    "\n",
    "if x%2==0 :\n",
    "    print ('четное')\n",
    "else:\n",
    "    print ('нечетное')\n",
    "if x%10==0 :\n",
    "    print ('кратно 10')\n",
    "else:\n",
    "    print ('не кратно 10')\n"
   ]
  },
  {
   "cell_type": "code",
   "execution_count": 6,
   "metadata": {},
   "outputs": [
    {
     "name": "stdout",
     "output_type": "stream",
     "text": [
      "3\n",
      "3\n",
      "3\n",
      "3\n",
      "7\n",
      "True\n"
     ]
    }
   ],
   "source": [
    "#5. Имеется коробка со сторонами: A × B × C. Определить, пройдёт ли она в\n",
    "#дверь с размерами M × K.\n",
    "A=int(input())\n",
    "B=int(input())\n",
    "C=int(input())\n",
    "K=int(input())\n",
    "M=int(input())\n",
    "\n",
    "L=0\n",
    "\n",
    "if A<M and C<K or B<K:\n",
    "    L=L+1\n",
    "if A<K and C<M or B<M:\n",
    "    L=L+1\n",
    "if B<M and A<K or C<K:\n",
    "    L=L+1\n",
    "if B<K and C<M or A<M:\n",
    "    L=L+1\n",
    "if C<M and A<K or B<K:\n",
    "    L=L+1\n",
    "if C<K and A<M or B<M:\n",
    "    L=L+1\n",
    "    \n",
    "if L>0:\n",
    "    print ('True')\n",
    "else:\n",
    "    print('False')\n"
   ]
  },
  {
   "cell_type": "code",
   "execution_count": 7,
   "metadata": {},
   "outputs": [
    {
     "name": "stdout",
     "output_type": "stream",
     "text": [
      "0\n",
      "ноль\n"
     ]
    }
   ],
   "source": [
    "#6. Дано вещественное число. Определить, какое это число: положительное,\n",
    "#отрицательное, ноль.\n",
    "x=int (input())\n",
    "\n",
    "if x>0:\n",
    "    print ('положительное')\n",
    "else:\n",
    "    if x<0:\n",
    "        print ('отрицательное')\n",
    "    else:\n",
    "        print ('ноль')\n"
   ]
  },
  {
   "cell_type": "code",
   "execution_count": 10,
   "metadata": {},
   "outputs": [
    {
     "name": "stdout",
     "output_type": "stream",
     "text": [
      "3\n",
      "1\n",
      "нельзя\n"
     ]
    }
   ],
   "source": [
    "#7. Можно ли из бревна, имеющего диаметр поперечного сечения D, выпилить\n",
    "#квадратный брус шириной A?\n",
    "\n",
    "\n",
    "A=int (input())\n",
    "D=int (input())\n",
    "if A<=D*math.sqrt(2)/2:\n",
    "    print ('можно')\n",
    "else: \n",
    "    print ('нельзя')"
   ]
  },
  {
   "cell_type": "code",
   "execution_count": 11,
   "metadata": {},
   "outputs": [
    {
     "name": "stdout",
     "output_type": "stream",
     "text": [
      "18\n",
      "2\n",
      "1\n",
      "нельзя\n"
     ]
    }
   ],
   "source": [
    "#8. Можно ли в квадратном зале площадью S поместить круглую сцену ради-\n",
    "#усом R так, чтобы от стены до сцены был проход не менее K?\n",
    "\n",
    "S=int (input())\n",
    "R=int (input())\n",
    "K=int (input())\n",
    "\n",
    "if (2*R+K)<=math.sqrt(S):\n",
    "    print ('можно')\n",
    "else: \n",
    "    print ('нельзя')"
   ]
  },
  {
   "cell_type": "code",
   "execution_count": 12,
   "metadata": {},
   "outputs": [
    {
     "name": "stdout",
     "output_type": "stream",
     "text": [
      "5\n",
      "купе\n",
      "нижнее\n"
     ]
    }
   ],
   "source": [
    "#9.Дан номер места в плацкартном вагоне. Определить, какое это место: верх-\n",
    "#нее или нижнее, в купе или боковое\n",
    "\n",
    "x=int (input())\n",
    "if ((x>0)and(x<37)):\n",
    "    print ('купе')\n",
    "else:\n",
    "    if ((x>36)and(x<54)):\n",
    "        print ('боковое')\n",
    "if ((x%2==0)and(x>0)and(x<54)):\n",
    "    print ('верхнее')\n",
    "else:\n",
    "    if ((x>0)and(x<54)):\n",
    "        print ('нижнее')"
   ]
  },
  {
   "cell_type": "code",
   "execution_count": 13,
   "metadata": {},
   "outputs": [
    {
     "name": "stdout",
     "output_type": "stream",
     "text": [
      "751\n",
      "Невозможно\n"
     ]
    }
   ],
   "source": [
    "#10.\n",
    "#Известна денежная сумма. Разменять её купюрами 500, 100, 10 и монетой\n",
    "#2 руб., если это возможно.\n",
    "\n",
    "\n",
    "x=int(input())\n",
    "k500=x//500\n",
    "k100=(x-k500*500)//100\n",
    "k10=((x-k500*500)-k100*100)//10\n",
    "k2=(((x-k500*500)-k100*100)-k10*10)//2\n",
    "if (((x-k500*500)-k100*100)-k10*10)-k2*2==0:\n",
    "    print('Возможно')\n",
    "else:\n",
    "    print('Невозможно')"
   ]
  },
  {
   "cell_type": "code",
   "execution_count": 14,
   "metadata": {},
   "outputs": [
    {
     "name": "stdout",
     "output_type": "stream",
     "text": [
      "3\n",
      "3\n",
      "3\n",
      "3\n",
      "войдет в куб\n",
      "войдет в цилиндр\n",
      "войдет в оба сосуда\n"
     ]
    }
   ],
   "source": [
    "#11.\n",
    "#Имеются две ёмкости: кубическая с ребром A, цилиндрическая с высотой\n",
    "#H и радиусом основания R. Определить, поместится ли жидкость объёма\n",
    "#M в первую ёмкость, во вторую, в обе.\n",
    "M=int (input())\n",
    "A=int (input())\n",
    "H=int (input())\n",
    "R=int (input())\n",
    "n=0\n",
    "if M<=A*A*A:\n",
    "    print ('войдет в куб')\n",
    "    n=n+1\n",
    "else:\n",
    "    print ('не войдет в куб')\n",
    "if M<=H*math.pi*R*R:\n",
    "    print ('войдет в цилиндр')\n",
    "    n=n+1\n",
    "else:\n",
    "    print ('не войдет в цилиндр')\n",
    "if n==2:\n",
    "    print ('войдет в оба сосуда')\n",
    "else:\n",
    "    print ('не войдет в оба сосуда')"
   ]
  },
  {
   "cell_type": "code",
   "execution_count": 25,
   "metadata": {
    "collapsed": true
   },
   "outputs": [],
   "source": [
    "#12.\n",
    "#Тоже самое что и 11"
   ]
  },
  {
   "cell_type": "code",
   "execution_count": 17,
   "metadata": {},
   "outputs": [
    {
     "name": "stdout",
     "output_type": "stream",
     "text": [
      "5\n",
      "12\n",
      "13\n",
      "треугольник существует\n",
      "треугольник прямоугольный\n"
     ]
    }
   ],
   "source": [
    "#13. Даны вещественные числа: X, Y , Z. Определить, существует ли треуголь-\n",
    "#ник с такими длинами сторон и, если существует, будет ли он прямоуголь-\n",
    "#ным.\n",
    "X=int (input())\n",
    "Y=int (input())\n",
    "Z=int (input())\n",
    "if (X<Y+Z)and(Y<X+Z)and(Z<X+Y):\n",
    "    print ('треугольник существует')\n",
    "else:\n",
    "    print ('треугольник не существует')\n",
    "if ((X<Y+Z)and(Y<X+Z)and(Z<X+Y))and((X*X+Y*Y==Z*Z)or(Z*Z+Y*Y==X*X)or(X*X+Z*Z==Y*Y)):\n",
    "    print ('треугольник прямоугольный')\n",
    "else:\n",
    "    print ('треугольник не прямоугольный')"
   ]
  },
  {
   "cell_type": "code",
   "execution_count": 18,
   "metadata": {},
   "outputs": [
    {
     "name": "stdout",
     "output_type": "stream",
     "text": [
      "20\n",
      "1\n",
      "20\n",
      "принадлежит промежутку\n"
     ]
    }
   ],
   "source": [
    "#14. Дано число X. Определить, принадлежит ли это число заданному проме-\n",
    "#жутку [a, b].\n",
    "X=int (input())\n",
    "a=int (input())\n",
    "b=int (input())\n",
    "if a<=X<=b:\n",
    "    print ('принадлежит промежутку')\n",
    "else:\n",
    "    print('не принадлежит промежутку')\n"
   ]
  },
  {
   "cell_type": "code",
   "execution_count": 26,
   "metadata": {},
   "outputs": [
    {
     "name": "stdout",
     "output_type": "stream",
     "text": [
      "5\n",
      "6\n",
      "0\n"
     ]
    }
   ],
   "source": [
    "#15. Определить значение функции Z = 1/(XY ) при произвольных X и Y .\n",
    "X=int (input())\n",
    "Y=int (input())\n",
    "Z=1/(X*Y)\n",
    "print(Z)"
   ]
  },
  {
   "cell_type": "code",
   "execution_count": 27,
   "metadata": {},
   "outputs": [
    {
     "name": "stdout",
     "output_type": "stream",
     "text": [
      "1\n",
      "2\n",
      "3\n",
      "A < B < C\n"
     ]
    }
   ],
   "source": [
    "#16. Даны вещественные числа: A, B, C. Определить, выполняются ли неравен-\n",
    "#ства A < B < C или A > B > C и какое именно неравенство выполняется.\n",
    "A=int (input())\n",
    "B=int (input())\n",
    "C=int (input())\n",
    "if A < B < C:\n",
    "    print ('A < B < C')\n",
    "if A > B > C:\n",
    "    print ('A > B > C')"
   ]
  },
  {
   "cell_type": "code",
   "execution_count": 28,
   "metadata": {},
   "outputs": [
    {
     "name": "stdout",
     "output_type": "stream",
     "text": [
      "3\n",
      "2\n",
      "2.44948974278\n"
     ]
    }
   ],
   "source": [
    "#17. Даны двещественные числа X и Y . Вычислить Z. Z = sqrt(X * Y) при X > Y ,\n",
    "#Z = ln(X + Y ) в противном случае.\n",
    "X=int (input())\n",
    "Y=int (input())\n",
    "if X>Y:\n",
    "    Z=math.sqrt(X*Y)\n",
    "    print(Z)\n",
    "else:\n",
    "    Z=math.log(X+Y)\n",
    "    print(Z)\n"
   ]
  },
  {
   "cell_type": "code",
   "execution_count": 29,
   "metadata": {},
   "outputs": [
    {
     "name": "stdout",
     "output_type": "stream",
     "text": [
      "4\n",
      "5\n",
      "6\n",
      "7\n",
      "уместится\n"
     ]
    }
   ],
   "source": [
    "#18. Даны вещественные положительные числа a, b, c, d. Выясните, может ли\n",
    "#прямоугольник со сторонами a, b уместиться внутри прямоугольника со сто-\n",
    "#ронами c, d так, чтобы каждая сторона внутреннего прямоугольника была\n",
    "#параллельна или перпендикулярна стороне внешнего прямоугольника.\n",
    "A=int (input())\n",
    "B=int (input())\n",
    "C=int (input())\n",
    "D=int (input())\n",
    "if ((A<=C)and(B<=D))or((A<=D)and(B<=C)):\n",
    "    print('уместится')\n",
    "else:\n",
    "    print ('Не уместится')\n"
   ]
  },
  {
   "cell_type": "code",
   "execution_count": 30,
   "metadata": {},
   "outputs": [
    {
     "name": "stdout",
     "output_type": "stream",
     "text": [
      "2\n",
      "17\n"
     ]
    }
   ],
   "source": [
    "#19. Дано вещественное число A. Вычислить f(A), если f(x) = x*x +4x+5 , при\n",
    "#x меньше либо равно 2; в противном случае f(x) = 1/(x*x + 4x + 5).\n",
    "A=int (input())\n",
    "if A<=2:\n",
    "    print (A*A+4*A+5)\n",
    "else:\n",
    "    print (1/(A*A + 4*A + 5))"
   ]
  },
  {
   "cell_type": "code",
   "execution_count": 31,
   "metadata": {},
   "outputs": [
    {
     "name": "stdout",
     "output_type": "stream",
     "text": [
      "5\n",
      "625\n"
     ]
    }
   ],
   "source": [
    "#20. Дано вещественное число A. Вычислить f(A), если f(x) = 0, при x <= 0;\n",
    "#f(x) = x при 0 < x <=1, в противном случае f(x) = x^4.\n",
    "\n",
    "A=int (input())\n",
    "if A<=0:\n",
    "    print (0)\n",
    "else:\n",
    "    if 0 < A <= 1:\n",
    "        print (A)\n",
    "    else:\n",
    "        print (A*A*A*A)"
   ]
  },
  {
   "cell_type": "code",
   "execution_count": 32,
   "metadata": {},
   "outputs": [
    {
     "name": "stdout",
     "output_type": "stream",
     "text": [
      "3\n",
      "9.0\n"
     ]
    }
   ],
   "source": [
    "#21. Дано вещественное число A. Вычислить f(A), если f(x) = 0 при x <= 0;\n",
    "#f(x) = x^2 − x при 0 < x<= 1, в противном случае f(x) = x^2 − sin(П*x^2).\n",
    "A=int (input())\n",
    "if A<=0:\n",
    "    print (0)\n",
    "else:\n",
    "    if 0 < A <= 1:\n",
    "        print (A*A-A)\n",
    "    else:\n",
    "        print (A*A-math.sin(math.pi*A*A))"
   ]
  },
  {
   "cell_type": "code",
   "execution_count": null,
   "metadata": {
    "collapsed": true
   },
   "outputs": [],
   "source": [
    "#22. Спросить\n",
    "#Составить алгоритм и программу для реализации логических операций «И»\n",
    "#и «ИЛИ» для двух переменных.\n"
   ]
  },
  {
   "cell_type": "code",
   "execution_count": 36,
   "metadata": {},
   "outputs": [
    {
     "name": "stdout",
     "output_type": "stream",
     "text": [
      "2100\n",
      "(22, 'century')\n",
      "невисокосный\n"
     ]
    }
   ],
   "source": [
    "#23. Известен ГОД. Определить, будет ли этот год високосным, и к какому веку\n",
    "#этот год относится.\n",
    "X=int (input())\n",
    "print(X//100+1, 'century')\n",
    "if ((X//4==0)and(X%100!=0))or((X//4==0)and(X//100==0)and(X//400==0)):\n",
    "    print ('високосный')\n",
    "else:\n",
    "    print ('невисокосный')"
   ]
  },
  {
   "cell_type": "code",
   "execution_count": null,
   "metadata": {
    "collapsed": true
   },
   "outputs": [],
   "source": []
  }
 ],
 "metadata": {
  "kernelspec": {
   "display_name": "Python 2",
   "language": "python",
   "name": "python2"
  },
  "language_info": {
   "codemirror_mode": {
    "name": "ipython",
    "version": 2
   },
   "file_extension": ".py",
   "mimetype": "text/x-python",
   "name": "python",
   "nbconvert_exporter": "python",
   "pygments_lexer": "ipython2",
   "version": "2.7.14"
  }
 },
 "nbformat": 4,
 "nbformat_minor": 2
}
