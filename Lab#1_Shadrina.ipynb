{
 "cells": [
  {
   "cell_type": "code",
   "execution_count": 3,
   "metadata": {},
   "outputs": [],
   "source": [
    "import math"
   ]
  },
  {
   "cell_type": "code",
   "execution_count": 8,
   "metadata": {},
   "outputs": [
    {
     "name": "stdout",
     "output_type": "stream",
     "text": [
      "5\n",
      "Плацкартное\n",
      "Верхнее\n"
     ]
    }
   ],
   "source": [
    "#Задача №9:\n",
    "#Дан номер места в плацкартном вагоне. Определить, какое это место: верх-\n",
    "#нее или нижнее, в купе или боковое\n",
    "x=int(input())\n",
    "if x<37:\n",
    "    print('Плацкартное')\n",
    "else:\n",
    "    print('Боковое')\n",
    "if (x%2 ==1):\n",
    "    print('Верхнее')\n",
    "else:\n",
    "    print('Нижнее')"
   ]
  },
  {
   "cell_type": "code",
   "execution_count": 14,
   "metadata": {},
   "outputs": [
    {
     "name": "stdout",
     "output_type": "stream",
     "text": [
      "750\n",
      "Возможно\n"
     ]
    }
   ],
   "source": [
    "#Задача №10:\n",
    "#Известна денежная сумма. Разменять её купюрами 500, 100, 10 и монетой\n",
    "#2 руб., если это возможно.\n",
    "x=int(input())\n",
    "K500=x//500\n",
    "K100=(x-500*K500)//100\n",
    "K10=(x-500*K500-100*K100)//10\n",
    "K2=(x-500*K500-100*K100-10*K10)//2\n",
    "if (K2*2+K10*10+K100*100+K500*500)==x:\n",
    "    print('Возможно')\n",
    "else:\n",
    "    print('Невозможно')"
   ]
  },
  {
   "cell_type": "code",
   "execution_count": 24,
   "metadata": {},
   "outputs": [
    {
     "name": "stdout",
     "output_type": "stream",
     "text": [
      "3\n",
      "3\n",
      "3\n",
      "3\n",
      "Поместится в куб\n",
      "Поместится в цилиндр\n",
      "Поместится в оба\n"
     ]
    }
   ],
   "source": [
    "#Задача №11:\n",
    "#Имеются две ёмкости: кубическая с ребром A, цилиндрическая с высотой\n",
    "#H и радиусом основания R. Определить, поместится ли жидкость объёма\n",
    "#M в первую ёмкость, во вторую, в обе.\n",
    "A=int(input())\n",
    "H=int(input())\n",
    "R=int(input())\n",
    "M=int(input())\n",
    "k=0\n",
    "Pi=3.14\n",
    "if ((A*A*A)>M):\n",
    "    k=k+1\n",
    "    print('Поместится в куб')\n",
    "if H*R*R*Pi>M:\n",
    "    k=k+1\n",
    "    print('Поместится в цилиндр')\n",
    "if k==2:\n",
    "    print('Поместится в оба')"
   ]
  },
  {
   "cell_type": "code",
   "execution_count": 25,
   "metadata": {
    "collapsed": true
   },
   "outputs": [],
   "source": [
    "#Задача №12:\n",
    "#Тоже самое что и 11"
   ]
  },
  {
   "cell_type": "code",
   "execution_count": null,
   "metadata": {
    "collapsed": true
   },
   "outputs": [],
   "source": []
  }
 ],
 "metadata": {
  "kernelspec": {
   "display_name": "Python 2",
   "language": "python",
   "name": "python2"
  },
  "language_info": {
   "codemirror_mode": {
    "name": "ipython",
    "version": 2
   },
   "file_extension": ".py",
   "mimetype": "text/x-python",
   "name": "python",
   "nbconvert_exporter": "python",
   "pygments_lexer": "ipython2",
   "version": "2.7.14"
  }
 },
 "nbformat": 4,
 "nbformat_minor": 2
}
