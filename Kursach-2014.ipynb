{
 "cells": [
  {
   "cell_type": "code",
   "execution_count": 1,
   "metadata": {
    "collapsed": true
   },
   "outputs": [],
   "source": [
    "from urllib2 import urlopen # Для работы с адресами"
   ]
  },
  {
   "cell_type": "code",
   "execution_count": 2,
   "metadata": {
    "collapsed": true
   },
   "outputs": [],
   "source": [
    "##Аэрофлот\n",
    "url_AF=\"http://export.finam.ru/AFLT_140101_150101.csv?market=1&em=29&code=AFLT&apply=0&df=1&mf=0&yf=2014&from=01.01.2014&dt=1&mt=0&yt=2015&to=01.01.2015&p=8&f=AFLT_140101_150101&e=.csv&cn=AFLT&dtf=1&tmf=1&MSOR=1&mstime=on&mstimever=1&sep=1&sep2=1&datf=1&at=1\"\n",
    "f = urlopen(url_AF)   # Открыли \n",
    "data_AF = f.read()   # Прочитали данные.\n",
    "f.close() "
   ]
  },
  {
   "cell_type": "code",
   "execution_count": 3,
   "metadata": {
    "collapsed": true
   },
   "outputs": [],
   "source": [
    "##Газпромнефть\n",
    "url_GP = \"http://export.finam.ru/SIBN_140101_141231.csv?market=1&em=2&code=SIBN&apply=0&df=1&mf=0&yf=2014&from=01.01.2014&dt=31&mt=11&yt=2014&to=31.12.2014&p=8&f=SIBN_140101_141231&e=.csv&cn=SIBN&dtf=1&tmf=1&MSOR=1&mstime=on&mstimever=1&sep=1&sep2=1&datf=1&at=1\"\n",
    "f = urlopen(url_GP)   # Открыли \n",
    "data_GP = f.read()   # Прочитали данные.\n",
    "f.close()          # Закрыли"
   ]
  },
  {
   "cell_type": "code",
   "execution_count": 4,
   "metadata": {
    "collapsed": true
   },
   "outputs": [],
   "source": [
    "##Лукоил\n",
    "url_Lk = \"http://export.finam.ru/LKOH_140101_141231.csv?market=1&em=8&code=LKOH&apply=0&df=1&mf=0&yf=2014&from=01.01.2014&dt=31&mt=11&yt=2014&to=31.12.2014&p=8&f=LKOH_140101_141231&e=.csv&cn=LKOH&dtf=1&tmf=1&MSOR=1&mstime=on&mstimever=1&sep=1&sep2=1&datf=1&at=1\"\n",
    "f = urlopen(url_Lk)  \n",
    "data_Lk = f.read()   \n",
    "f.close()   "
   ]
  },
  {
   "cell_type": "code",
   "execution_count": 6,
   "metadata": {},
   "outputs": [],
   "source": [
    "##МТС\n",
    "url_MTS = \"http://export.finam.ru/MTSS_140101_141231.csv?market=1&em=15523&code=MTSS&apply=0&df=1&mf=0&yf=2014&from=01.01.2014&dt=31&mt=11&yt=2014&to=31.12.2014&p=8&f=MTSS_140101_141231&e=.csv&cn=MTSS&dtf=1&tmf=1&MSOR=1&mstime=on&mstimever=1&sep=1&sep2=1&datf=1&at=1\"\n",
    "f = urlopen(url_MTS)   \n",
    "data_MTS = f.read()   \n",
    "f.close()   "
   ]
  },
  {
   "cell_type": "code",
   "execution_count": 7,
   "metadata": {
    "collapsed": true
   },
   "outputs": [],
   "source": [
    "##Мегафон\n",
    "url_MF = \"http://export.finam.ru/MFON_140101_141231.csv?market=1&em=152516&code=MFON&apply=0&df=1&mf=0&yf=2014&from=01.01.2014&dt=31&mt=11&yt=2014&to=31.12.2014&p=8&f=MFON_140101_141231&e=.csv&cn=MFON&dtf=1&tmf=1&MSOR=1&mstime=on&mstimever=1&sep=1&sep2=1&datf=1&at=1\"\n",
    "f = urlopen(url_MF)   \n",
    "data_MF = f.read()   \n",
    "f.close()"
   ]
  },
  {
   "cell_type": "code",
   "execution_count": 8,
   "metadata": {
    "collapsed": true
   },
   "outputs": [],
   "source": [
    "##Ростелеком\n",
    "url_RT = \"http://export.finam.ru/RTKM_140101_141231.csv?market=1&em=7&code=RTKM&apply=0&df=1&mf=0&yf=2014&from=01.01.2014&dt=31&mt=11&yt=2014&to=31.12.2014&p=8&f=RTKM_140101_141231&e=.csv&cn=RTKM&dtf=1&tmf=1&MSOR=1&mstime=on&mstimever=1&sep=1&sep2=1&datf=1&at=1\"\n",
    "f = urlopen(url_RT)   \n",
    "data_RT = f.read()   \n",
    "f.close()"
   ]
  },
  {
   "cell_type": "code",
   "execution_count": 9,
   "metadata": {
    "collapsed": true
   },
   "outputs": [],
   "source": [
    "##Сбербанк\n",
    "url_SB = \"http://export.finam.ru/SBER_140101_141231.csv?market=1&em=3&code=SBER&apply=0&df=1&mf=0&yf=2014&from=01.01.2014&dt=31&mt=11&yt=2014&to=31.12.2014&p=8&f=SBER_140101_141231&e=.csv&cn=SBER&dtf=1&tmf=1&MSOR=1&mstime=on&mstimever=1&sep=1&sep2=1&datf=1&at=1\"\n",
    "f = urlopen(url_SB)   \n",
    "data_SB = f.read()   \n",
    "f.close() "
   ]
  },
  {
   "cell_type": "code",
   "execution_count": 10,
   "metadata": {
    "collapsed": true
   },
   "outputs": [],
   "source": [
    "##ВТБ\n",
    "url_VTB = \"http://export.finam.ru/VTBR_140101_141231.csv?market=1&em=19043&code=VTBR&apply=0&df=1&mf=0&yf=2014&from=01.01.2014&dt=31&mt=11&yt=2014&to=31.12.2014&p=8&f=VTBR_140101_141231&e=.csv&cn=VTBR&dtf=1&tmf=1&MSOR=1&mstime=on&mstimever=1&sep=1&sep2=1&datf=1&at=1\"\n",
    "f = urlopen(url_VTB)   \n",
    "data_VTB = f.read()   \n",
    "f.close() "
   ]
  },
  {
   "cell_type": "code",
   "execution_count": null,
   "metadata": {
    "collapsed": true
   },
   "outputs": [],
   "source": []
  },
  {
   "cell_type": "code",
   "execution_count": null,
   "metadata": {
    "collapsed": true
   },
   "outputs": [],
   "source": []
  },
  {
   "cell_type": "code",
   "execution_count": 11,
   "metadata": {
    "collapsed": true
   },
   "outputs": [],
   "source": [
    "from pandas import DataFrame, read_csv  # Стандартный DataFrame\n",
    "from pandas import set_option\n",
    "import matplotlib.pyplot as plt\n"
   ]
  },
  {
   "cell_type": "code",
   "execution_count": null,
   "metadata": {
    "collapsed": true
   },
   "outputs": [],
   "source": []
  },
  {
   "cell_type": "code",
   "execution_count": null,
   "metadata": {
    "collapsed": true
   },
   "outputs": [],
   "source": []
  },
  {
   "cell_type": "code",
   "execution_count": 12,
   "metadata": {
    "collapsed": true
   },
   "outputs": [],
   "source": [
    "##Табличка по Аэрофлоту\n",
    "data_AF = read_csv(url_AF, header=0, index_col=0, parse_dates={'': [0, 1]}, sep=',').sort_index()\n",
    "data_AF.columns = ['' + i for i in ['Data','Time','Open', 'High', 'Low', 'Close', 'Volume']] # Заголовки столбцов\n",
    "\n",
    "\n",
    "set_option('display.max_columns', 50) # Кол-во колонок\n",
    "set_option('display.width', 500)      # Ширина поля вывода"
   ]
  },
  {
   "cell_type": "code",
   "execution_count": 13,
   "metadata": {},
   "outputs": [
    {
     "name": "stdout",
     "output_type": "stream",
     "text": [
      "            Data  Time   Open   High    Low  Close   Volume\n",
      "                                                           \n",
      "AFLT D  20140106     0  83.30  84.83  82.60  83.24  2486000\n",
      "AFLT D  20140108     0  83.75  83.85  82.81  83.41  2322700\n",
      "AFLT D  20140109     0  83.95  84.82  82.83  82.90  2587500\n",
      "AFLT D  20140110     0  83.00  83.90  82.10  82.83  3833100\n",
      "AFLT D  20140113     0  82.89  99.30  82.09  87.87  7342800\n"
     ]
    }
   ],
   "source": [
    "print(data_AF.head())"
   ]
  },
  {
   "cell_type": "code",
   "execution_count": 14,
   "metadata": {},
   "outputs": [
    {
     "data": {
      "text/plain": [
       "250"
      ]
     },
     "execution_count": 14,
     "metadata": {},
     "output_type": "execute_result"
    }
   ],
   "source": [
    "len(data_AF)"
   ]
  },
  {
   "cell_type": "code",
   "execution_count": 15,
   "metadata": {
    "collapsed": true
   },
   "outputs": [],
   "source": [
    "##Табличка по Газпрому\n",
    "data_GP = read_csv(url_GP, header=0, index_col=0, parse_dates={'': [0, 1]}, sep=',').sort_index()\n",
    "data_GP.columns = ['' + i for i in ['Data','Time','Open', 'High', 'Low', 'Close', 'Volume']] # Заголовки столбцов\n",
    "\n",
    "\n",
    "set_option('display.max_columns', 50) # Кол-во колонок\n",
    "set_option('display.width', 500)      # Ширина поля вывода"
   ]
  },
  {
   "cell_type": "code",
   "execution_count": 16,
   "metadata": {},
   "outputs": [
    {
     "name": "stdout",
     "output_type": "stream",
     "text": [
      "            Data  Time    Open    High     Low   Close  Volume\n",
      "                                                              \n",
      "SIBN D  20140106     0  146.84  147.95  146.40  147.79   89140\n",
      "SIBN D  20140108     0  147.85  148.71  147.70  148.39   51010\n",
      "SIBN D  20140109     0  148.01  148.50  146.68  146.79  171960\n",
      "SIBN D  20140110     0  147.00  147.90  146.42  146.78  133450\n",
      "SIBN D  20140113     0  146.37  147.77  146.37  147.41  101790\n"
     ]
    }
   ],
   "source": [
    "print(data_GP.head())  # Вывод верха таблицы"
   ]
  },
  {
   "cell_type": "code",
   "execution_count": 17,
   "metadata": {},
   "outputs": [
    {
     "data": {
      "text/plain": [
       "250"
      ]
     },
     "execution_count": 17,
     "metadata": {},
     "output_type": "execute_result"
    }
   ],
   "source": [
    "len(data_GP)"
   ]
  },
  {
   "cell_type": "code",
   "execution_count": 18,
   "metadata": {
    "collapsed": true
   },
   "outputs": [],
   "source": [
    "##Табличка по Лукойлу\n",
    "data_Lk = read_csv(url_Lk, header=0, index_col=0, parse_dates={'': [0, 1]}, sep=',').sort_index()\n",
    "data_Lk.columns = ['' + i for i in ['Data','Time','Open', 'High', 'Low', 'Close', 'Volume']] # Заголовки столбцов\n",
    "\n",
    "\n",
    "set_option('display.max_columns', 50) # Кол-во колонок\n",
    "set_option('display.width', 500)      # Ширина поля вывода\n",
    "                                   "
   ]
  },
  {
   "cell_type": "code",
   "execution_count": 19,
   "metadata": {},
   "outputs": [
    {
     "name": "stdout",
     "output_type": "stream",
     "text": [
      "            Data  Time    Open    High     Low   Close   Volume\n",
      "                                                               \n",
      "LKOH D  20140106     0  2017.9  2023.0  1990.2  1990.2   795577\n",
      "LKOH D  20140108     0  1994.5  1994.5  1953.4  1959.1   664794\n",
      "LKOH D  20140109     0  1961.1  1979.9  1952.3  1979.1  1207032\n",
      "LKOH D  20140110     0  1975.0  1998.0  1965.4  1991.6  1081065\n",
      "LKOH D  20140113     0  1986.3  2016.5  1981.0  2001.1  1092407\n"
     ]
    }
   ],
   "source": [
    "print(data_Lk.head())  # Вывод верха таблицы"
   ]
  },
  {
   "cell_type": "code",
   "execution_count": 20,
   "metadata": {},
   "outputs": [
    {
     "data": {
      "text/plain": [
       "250"
      ]
     },
     "execution_count": 20,
     "metadata": {},
     "output_type": "execute_result"
    }
   ],
   "source": [
    "len(data_Lk)"
   ]
  },
  {
   "cell_type": "code",
   "execution_count": 21,
   "metadata": {
    "collapsed": true
   },
   "outputs": [],
   "source": [
    "##Табличка по МТС\n",
    "data_MTS = read_csv(url_MTS, header=0, index_col=0, parse_dates={'': [0, 1]}, sep=',').sort_index()\n",
    "data_MTS.columns = ['' + i for i in ['Data','Time','Open', 'High', 'Low', 'Close', 'Volume']] # Заголовки столбцов\n",
    "\n",
    "\n",
    "set_option('display.max_columns', 50) # Кол-во колонок\n",
    "set_option('display.width', 500)      # Ширина поля вывода\n"
   ]
  },
  {
   "cell_type": "code",
   "execution_count": 22,
   "metadata": {},
   "outputs": [
    {
     "name": "stdout",
     "output_type": "stream",
     "text": [
      "            Data  Time    Open    High     Low   Close   Volume\n",
      "                                                               \n",
      "MTSS D  20140106     0  323.57  325.45  313.66  315.02  1592760\n",
      "MTSS D  20140108     0  316.01  317.95  311.60  314.63  1148620\n",
      "MTSS D  20140109     0  314.00  317.20  311.61  312.04  1166060\n",
      "MTSS D  20140110     0  311.49  314.43  304.41  313.43  2442030\n",
      "MTSS D  20140113     0  311.84  323.30  311.10  317.08  2469720\n"
     ]
    }
   ],
   "source": [
    "print(data_MTS.head())  # Вывод верха таблицы"
   ]
  },
  {
   "cell_type": "code",
   "execution_count": 23,
   "metadata": {},
   "outputs": [
    {
     "data": {
      "text/plain": [
       "241"
      ]
     },
     "execution_count": 23,
     "metadata": {},
     "output_type": "execute_result"
    }
   ],
   "source": [
    "len(data_MTS)"
   ]
  },
  {
   "cell_type": "code",
   "execution_count": 24,
   "metadata": {
    "collapsed": true
   },
   "outputs": [],
   "source": [
    "##Табличка по Мегафону\n",
    "data_MF = read_csv(url_MF, header=0, index_col=0, parse_dates={'': [0, 1]}, sep=',').sort_index()\n",
    "data_MF.columns = ['' + i for i in ['Data','Time','Open', 'High', 'Low', 'Close', 'Volume']] # Заголовки столбцов\n",
    "\n",
    "\n",
    "set_option('display.max_columns', 50) # Кол-во колонок\n",
    "set_option('display.width', 500)      # Ширина поля вывода\n"
   ]
  },
  {
   "cell_type": "code",
   "execution_count": 25,
   "metadata": {},
   "outputs": [
    {
     "name": "stdout",
     "output_type": "stream",
     "text": [
      "            Data  Time    Open    High     Low   Close  Volume\n",
      "                                                              \n",
      "MFON D  20140106     0  1087.1  1099.9  1054.1  1071.9   16150\n",
      "MFON D  20140108     0  1073.8  1075.5  1055.0  1061.3    6320\n",
      "MFON D  20140109     0  1053.2  1063.0  1042.2  1049.8   17560\n",
      "MFON D  20140110     0  1045.0  1087.7  1035.0  1079.9   15210\n",
      "MFON D  20140113     0  1070.0  1095.4  1041.0  1041.0   28470\n"
     ]
    }
   ],
   "source": [
    "print(data_MF.head())  # Вывод верха таблицы"
   ]
  },
  {
   "cell_type": "code",
   "execution_count": 26,
   "metadata": {},
   "outputs": [
    {
     "data": {
      "text/plain": [
       "250"
      ]
     },
     "execution_count": 26,
     "metadata": {},
     "output_type": "execute_result"
    }
   ],
   "source": [
    "len(data_MF)"
   ]
  },
  {
   "cell_type": "code",
   "execution_count": 27,
   "metadata": {
    "collapsed": true
   },
   "outputs": [],
   "source": [
    "##Табличка по Ростелекому\n",
    "data_RT = read_csv(url_RT, header=0, index_col=0, parse_dates={'': [0, 1]}, sep=',').sort_index()\n",
    "data_RT.columns = ['' + i for i in ['Data','Time','Open', 'High', 'Low', 'Close', 'Volume']] # Заголовки столбцов\n",
    "\n",
    "\n",
    "set_option('display.max_columns', 50) # Кол-во колонок\n",
    "set_option('display.width', 500)      # Ширина поля вывода"
   ]
  },
  {
   "cell_type": "code",
   "execution_count": 28,
   "metadata": {},
   "outputs": [
    {
     "name": "stdout",
     "output_type": "stream",
     "text": [
      "            Data  Time    Open    High     Low   Close   Volume\n",
      "                                                               \n",
      "RTKM D  20140106     0  110.41  110.47  109.60  110.29  2291180\n",
      "RTKM D  20140108     0  110.61  110.63  110.00  110.25  1022260\n",
      "RTKM D  20140109     0  110.25  110.70  109.90  110.65  1419250\n",
      "RTKM D  20140110     0  110.86  111.29  110.12  110.99  1533160\n",
      "RTKM D  20140113     0  111.45  112.30  110.64  111.92  1734770\n"
     ]
    }
   ],
   "source": [
    "print(data_RT.head())  # Вывод верха таблицы"
   ]
  },
  {
   "cell_type": "code",
   "execution_count": 29,
   "metadata": {},
   "outputs": [
    {
     "data": {
      "text/plain": [
       "241"
      ]
     },
     "execution_count": 29,
     "metadata": {},
     "output_type": "execute_result"
    }
   ],
   "source": [
    "len(data_RT)"
   ]
  },
  {
   "cell_type": "code",
   "execution_count": 30,
   "metadata": {
    "collapsed": true
   },
   "outputs": [],
   "source": [
    "##Табличка по СберБанку\n",
    "data_SB = read_csv(url_SB, header=0, index_col=0, parse_dates={'': [0, 1]}, sep=',').sort_index()\n",
    "data_SB.columns = ['' + i for i in ['Data','Time','Open', 'High', 'Low', 'Close', 'Volume']] # Заголовки столбцов\n",
    "\n",
    "\n",
    "set_option('display.max_columns', 50) # Кол-во колонок\n",
    "set_option('display.width', 500)      # Ширина поля вывода\n"
   ]
  },
  {
   "cell_type": "code",
   "execution_count": 31,
   "metadata": {},
   "outputs": [
    {
     "name": "stdout",
     "output_type": "stream",
     "text": [
      "            Data  Time    Open    High    Low   Close    Volume\n",
      "                                                               \n",
      "SBER D  20140106     0  100.20  100.31  98.62   98.91  31402070\n",
      "SBER D  20140108     0   99.10   99.41  97.85   98.19  42304620\n",
      "SBER D  20140109     0   98.24   98.77  97.69   98.00  45619030\n",
      "SBER D  20140110     0   97.85   99.30  97.52   99.20  51181490\n",
      "SBER D  20140113     0   99.30  100.35  99.04  100.25  61750730\n"
     ]
    }
   ],
   "source": [
    "print(data_SB.head())  # Вывод верха таблицы"
   ]
  },
  {
   "cell_type": "code",
   "execution_count": 32,
   "metadata": {},
   "outputs": [
    {
     "data": {
      "text/plain": [
       "250"
      ]
     },
     "execution_count": 32,
     "metadata": {},
     "output_type": "execute_result"
    }
   ],
   "source": [
    "len(data_SB)"
   ]
  },
  {
   "cell_type": "code",
   "execution_count": 33,
   "metadata": {
    "collapsed": true
   },
   "outputs": [],
   "source": [
    "##Табличка по ВТБ\n",
    "data_VTB = read_csv(url_VTB, header=0, index_col=0, parse_dates={'': [0, 1]}, sep=',').sort_index()\n",
    "data_VTB.columns = ['' + i for i in ['Data','Time','Open', 'High', 'Low', 'Close', 'Volume']] # Заголовки столбцов\n",
    "\n",
    "\n",
    "set_option('display.max_columns', 50) # Кол-во колонок\n",
    "set_option('display.width', 500)      # Ширина поля вывода\n"
   ]
  },
  {
   "cell_type": "code",
   "execution_count": 34,
   "metadata": {},
   "outputs": [
    {
     "name": "stdout",
     "output_type": "stream",
     "text": [
      "            Data  Time     Open     High      Low    Close       Volume\n",
      "                                                                       \n",
      "VTBR D  20140106     0  0.04930  0.04950  0.04840  0.04846  13844400000\n",
      "VTBR D  20140108     0  0.04857  0.04857  0.04791  0.04791  10098210000\n",
      "VTBR D  20140109     0  0.04793  0.04840  0.04774  0.04812  17175470000\n",
      "VTBR D  20140110     0  0.04805  0.04858  0.04780  0.04846  15829500000\n",
      "VTBR D  20140113     0  0.04839  0.04929  0.04825  0.04892  24778910000\n"
     ]
    }
   ],
   "source": [
    "print(data_VTB.head())  # Вывод верха таблицы"
   ]
  },
  {
   "cell_type": "code",
   "execution_count": 35,
   "metadata": {},
   "outputs": [
    {
     "data": {
      "text/plain": [
       "250"
      ]
     },
     "execution_count": 35,
     "metadata": {},
     "output_type": "execute_result"
    }
   ],
   "source": [
    "len(data_VTB)"
   ]
  },
  {
   "cell_type": "code",
   "execution_count": null,
   "metadata": {
    "collapsed": true
   },
   "outputs": [],
   "source": []
  },
  {
   "cell_type": "code",
   "execution_count": 36,
   "metadata": {
    "collapsed": true
   },
   "outputs": [],
   "source": [
    "a=[0]*250\n",
    "b=[0]*241"
   ]
  },
  {
   "cell_type": "code",
   "execution_count": 37,
   "metadata": {
    "collapsed": true
   },
   "outputs": [],
   "source": [
    "for i in range(250):\n",
    "    a[i]=i\n",
    "for i in range(241):\n",
    "    b[i]=i\n",
    "    \n",
    "    \n",
    "#data_AF['Data']"
   ]
  },
  {
   "cell_type": "code",
   "execution_count": null,
   "metadata": {
    "collapsed": true
   },
   "outputs": [],
   "source": []
  },
  {
   "cell_type": "code",
   "execution_count": null,
   "metadata": {
    "collapsed": true
   },
   "outputs": [],
   "source": []
  },
  {
   "cell_type": "code",
   "execution_count": 38,
   "metadata": {},
   "outputs": [
    {
     "name": "stdout",
     "output_type": "stream",
     "text": [
      "(20140121, '  ', 5.1200000000000045)\n",
      "(20140203, '  ', 4.6200000000000045)\n",
      "(20140227, '  ', 4.5799999999999983)\n",
      "(20140228, '  ', 5.8599999999999994)\n",
      "(20140303, '  ', 7.8500000000000085)\n",
      "(20140313, '  ', 7.3999999999999986)\n",
      "(20140314, '  ', 3.8400000000000034)\n",
      "(20141216, '  ', 5.0500000000000043)\n"
     ]
    }
   ],
   "source": [
    "for i in range(len(data_AF)-1):\n",
    "    if (data_AF['Open'][i]-data_AF['Open'][i+1])>(0.04*data_AF['Open'][1]):\n",
    "        print (data_AF['Data'][i],'  ',data_AF['Open'][i]-data_AF['Open'][i+1])"
   ]
  },
  {
   "cell_type": "code",
   "execution_count": 39,
   "metadata": {},
   "outputs": [
    {
     "name": "stdout",
     "output_type": "stream",
     "text": [
      "(20140228, '  ', 6.7700000000000102)\n",
      "(20140303, '  ', 7.0099999999999909)\n",
      "(20140619, '  ', 6.8899999999999864)\n",
      "(20141215, '  ', 7.5)\n"
     ]
    }
   ],
   "source": [
    "for i in range(len(data_GP)-1):\n",
    "    if (data_GP['Open'][i]-data_GP['Open'][i+1])>(0.04*data_GP['Open'][1]):\n",
    "        print (data_GP['Data'][i],'  ',data_GP['Open'][i]-data_GP['Open'][i+1])"
   ]
  },
  {
   "cell_type": "code",
   "execution_count": 40,
   "metadata": {},
   "outputs": [
    {
     "name": "stdout",
     "output_type": "stream",
     "text": [
      "(20140303, '  ', 92.0)\n",
      "(20140313, '  ', 90.099999999999909)\n",
      "(20141205, '  ', 98.0)\n",
      "(20141211, '  ', 82.5)\n",
      "(20141223, '  ', 118.0)\n"
     ]
    }
   ],
   "source": [
    "for i in range(len(data_Lk)-1):\n",
    "    if (data_Lk['Open'][i]-data_Lk['Open'][i+1])>(0.04*data_Lk['Open'][1]):\n",
    "        print (data_Lk['Data'][i],'  ',data_Lk['Open'][i]-data_Lk['Open'][i+1])"
   ]
  },
  {
   "cell_type": "code",
   "execution_count": 41,
   "metadata": {},
   "outputs": [
    {
     "name": "stdout",
     "output_type": "stream",
     "text": [
      "(20140303, '  ', 16.120000000000005)\n",
      "(20140919, '  ', 30.25)\n",
      "(20141009, '  ', 14.989999999999981)\n",
      "(20141208, '  ', 15.400000000000006)\n",
      "(20141215, '  ', 27.050000000000011)\n",
      "(20141223, '  ', 14.700000000000017)\n"
     ]
    }
   ],
   "source": [
    "for i in range(len(data_MTS)-1):\n",
    "    if (data_MTS['Open'][i]-data_MTS['Open'][i+1])>(0.04*data_MTS['Open'][1]):\n",
    "        print (data_MTS['Data'][i],'  ',data_MTS['Open'][i]-data_MTS['Open'][i+1])"
   ]
  },
  {
   "cell_type": "code",
   "execution_count": 42,
   "metadata": {},
   "outputs": [
    {
     "name": "stdout",
     "output_type": "stream",
     "text": [
      "(20140228, '  ', 124.70000000000005)\n",
      "(20140313, '  ', 50.200000000000045)\n",
      "(20140320, '  ', 47.100000000000023)\n",
      "(20140709, '  ', 64.799999999999955)\n",
      "(20140731, '  ', 46.899999999999977)\n",
      "(20140901, '  ', 58.0)\n",
      "(20141208, '  ', 46.0)\n",
      "(20141216, '  ', 110.0)\n"
     ]
    }
   ],
   "source": [
    "for i in range(len(data_MF)-1):\n",
    "    if (data_MF['Open'][i]-data_MF['Open'][i+1])>(0.04*data_MF['Open'][1]):\n",
    "        print (data_MF['Data'][i],'  ',data_MF['Open'][i]-data_MF['Open'][i+1])"
   ]
  },
  {
   "cell_type": "code",
   "execution_count": 43,
   "metadata": {},
   "outputs": [
    {
     "name": "stdout",
     "output_type": "stream",
     "text": [
      "(20140228, '  ', 8.1200000000000045)\n",
      "(20140312, '  ', 5.8599999999999994)\n",
      "(20141215, '  ', 5.6099999999999994)\n",
      "(20141217, '  ', 8.8700000000000045)\n"
     ]
    }
   ],
   "source": [
    "for i in range(len(data_RT)-1):\n",
    "    if (data_RT['Open'][i]-data_RT['Open'][i+1])>(0.04*data_RT['Open'][1]):\n",
    "        print (data_RT['Data'][i],'  ',data_RT['Open'][i]-data_RT['Open'][i+1])"
   ]
  },
  {
   "cell_type": "code",
   "execution_count": 44,
   "metadata": {},
   "outputs": [
    {
     "name": "stdout",
     "output_type": "stream",
     "text": [
      "(20140228, '  ', 4.7299999999999898)\n",
      "(20140303, '  ', 6.9300000000000068)\n",
      "(20140313, '  ', 5.5)\n",
      "(20140425, '  ', 4.0799999999999983)\n",
      "(20140611, '  ', 4.5300000000000011)\n",
      "(20141208, '  ', 4.3900000000000006)\n",
      "(20141215, '  ', 4.5)\n",
      "(20141216, '  ', 5.4600000000000009)\n",
      "(20141222, '  ', 4.0599999999999952)\n",
      "(20141223, '  ', 5.480000000000004)\n"
     ]
    }
   ],
   "source": [
    "for i in range(len(data_SB)-1):\n",
    "    if (data_SB['Open'][i]-data_SB['Open'][i+1])>(0.04*data_SB['Open'][1]):\n",
    "        print (data_SB['Data'][i],'  ',data_SB['Open'][i]-data_SB['Open'][i+1])"
   ]
  },
  {
   "cell_type": "code",
   "execution_count": 45,
   "metadata": {},
   "outputs": [
    {
     "name": "stdout",
     "output_type": "stream",
     "text": [
      "(20140228, '  ', 0.0021600000000000022)\n",
      "(20140303, '  ', 0.00528)\n",
      "(20140605, '  ', 0.0023800000000000002)\n",
      "(20140806, '  ', 0.0020499999999999963)\n",
      "(20141229, '  ', 0.0021799999999999875)\n"
     ]
    }
   ],
   "source": [
    "for i in range(len(data_VTB)-1):\n",
    "    if (data_VTB['Open'][i]-data_VTB['Open'][i+1])>(0.04*data_VTB['Open'][1]):\n",
    "        print (data_VTB['Data'][i],'  ',data_VTB['Open'][i]-data_VTB['Open'][i+1])"
   ]
  },
  {
   "cell_type": "code",
   "execution_count": null,
   "metadata": {
    "collapsed": true
   },
   "outputs": [],
   "source": []
  },
  {
   "cell_type": "code",
   "execution_count": null,
   "metadata": {
    "collapsed": true
   },
   "outputs": [],
   "source": []
  },
  {
   "cell_type": "code",
   "execution_count": 46,
   "metadata": {
    "collapsed": true
   },
   "outputs": [],
   "source": [
    "#Общие кризисные даты\n",
    "#20140228-Захват Крыма\n",
    "#20140303-Вооруженный конфликт на Украине\n",
    "#20140313-СИльные вложения в Крым, вливание Украины в Европу\n",
    "#20141215-СБой товаров на Амазоне(падение цен до 1 пени),Сирия конфликт в Алеппо\n",
    "#20141223-Сильное падение рубля и мощный выкуп Российских компаний на понижении их стоимости(около 30% неффтехимических активов перекуплено русскими)"
   ]
  },
  {
   "cell_type": "code",
   "execution_count": null,
   "metadata": {
    "collapsed": true
   },
   "outputs": [],
   "source": []
  },
  {
   "cell_type": "code",
   "execution_count": null,
   "metadata": {
    "collapsed": true
   },
   "outputs": [],
   "source": []
  },
  {
   "cell_type": "code",
   "execution_count": null,
   "metadata": {
    "collapsed": true
   },
   "outputs": [],
   "source": []
  },
  {
   "cell_type": "code",
   "execution_count": null,
   "metadata": {
    "collapsed": true
   },
   "outputs": [],
   "source": []
  },
  {
   "cell_type": "code",
   "execution_count": 47,
   "metadata": {},
   "outputs": [
    {
     "data": {
      "image/png": "[encoded data removed]",
      "text/plain": [
       "<matplotlib.figure.Figure at 0x970e080>"
      ]
     },
     "metadata": {},
     "output_type": "display_data"
    }
   ],
   "source": [
    "##Аэрофлот\n",
    "##(20140303, '  ', 7.8500000000000085)\n",
    "\n",
    "\n",
    "url_AF_1=\"http://export.finam.ru/AFLT_140303_140303.csv?market=1&em=29&code=AFLT&apply=0&df=3&mf=2&yf=2014&from=03.03.2014&dt=3&mt=2&yt=2014&to=03.03.2014&p=3&f=AFLT_140303_140303&e=.csv&cn=AFLT&dtf=1&tmf=1&MSOR=1&mstime=on&mstimever=1&sep=1&sep2=1&datf=1&at=1\"\n",
    "f = urlopen(url_AF_1)   # Открыли \n",
    "data_AF_1 = f.read()   # Прочитали данные.\n",
    "f.close()\n",
    "\n",
    "data_AF_1 = read_csv(url_AF_1, header=0, index_col=0, parse_dates={'': [0, 1]}, sep=',').sort_index()\n",
    "data_AF_1.columns = ['' + i for i in ['Data','Time','Open', 'High', 'Low', 'Close', 'Volume']] # Заголовки столбцов\n",
    "\n",
    "set_option('display.max_columns', 50) # Кол-во колонок\n",
    "set_option('display.width', 500)      # Ширина поля вывода\n",
    "\n",
    "\n",
    "plt.plot(data_AF_1['Time'], data_AF_1['Open'], 'r', label = 'Open')\n",
    "plt.show()\n"
   ]
  },
  {
   "cell_type": "code",
   "execution_count": 48,
   "metadata": {},
   "outputs": [
    {
     "data": {
      "image/png": "[encoded data removed]",
      "text/plain": [
       "<matplotlib.figure.Figure at 0x96a5ac8>"
      ]
     },
     "metadata": {},
     "output_type": "display_data"
    }
   ],
   "source": [
    "##Аэрофлот\n",
    "##(20140313, '  ', 7.3999999999999986)\n",
    "\n",
    "url_AF_2=\"http://export.finam.ru/AFLT_140313_140313.csv?market=1&em=29&code=AFLT&apply=0&df=13&mf=2&yf=2014&from=13.03.2014&dt=13&mt=2&yt=2014&to=13.03.2014&p=3&f=AFLT_140313_140313&e=.csv&cn=AFLT&dtf=1&tmf=1&MSOR=1&mstime=on&mstimever=1&sep=1&sep2=1&datf=1&at=1\"\n",
    "f = urlopen(url_AF_2)   # Открыли \n",
    "data_AF_2 = f.read()   # Прочитали данные.\n",
    "f.close()\n",
    "\n",
    "data_AF_2 = read_csv(url_AF_2, header=0, index_col=0, parse_dates={'': [0, 1]}, sep=',').sort_index()\n",
    "data_AF_2.columns = ['' + i for i in ['Data','Time','Open', 'High', 'Low', 'Close', 'Volume']] # Заголовки столбцов\n",
    "\n",
    "\n",
    "\n",
    "\n",
    "set_option('display.max_columns', 50) # Кол-во колонок\n",
    "set_option('display.width', 500)      # Ширина поля вывода\n",
    "\n",
    "plt.plot(data_AF_2['Time'], data_AF_2['Open'], 'b', label = 'Open')\n",
    "plt.show()\n"
   ]
  },
  {
   "cell_type": "code",
   "execution_count": null,
   "metadata": {
    "collapsed": true
   },
   "outputs": [],
   "source": []
  },
  {
   "cell_type": "code",
   "execution_count": 49,
   "metadata": {},
   "outputs": [
    {
     "data": {
      "image/png": "[encoded data removed]",
      "text/plain": [
       "<matplotlib.figure.Figure at 0x98c8fd0>"
      ]
     },
     "metadata": {},
     "output_type": "display_data"
    }
   ],
   "source": [
    "##Газсопрем\n",
    "##(20140303, '  ', 7.0099999999999909)\n",
    "\n",
    "\n",
    "url_GP_1=\"http://export.finam.ru/SIBN_140303_140303.csv?market=1&em=2&code=SIBN&apply=0&df=3&mf=2&yf=2014&from=03.03.2014&dt=3&mt=2&yt=2014&to=03.03.2014&p=3&f=SIBN_140303_140303&e=.csv&cn=SIBN&dtf=1&tmf=1&MSOR=1&mstime=on&mstimever=1&sep=1&sep2=1&datf=1&at=1\"\n",
    "f = urlopen(url_GP_1)   # Открыли \n",
    "data_GP_1 = f.read()   # Прочитали данные.\n",
    "f.close()\n",
    "\n",
    "data_GP_1 = read_csv(url_GP_1, header=0, index_col=0, parse_dates={'': [0, 1]}, sep=',').sort_index()\n",
    "data_GP_1.columns = ['' + i for i in ['Data','Time','Open', 'High', 'Low', 'Close', 'Volume']] # Заголовки столбцов\n",
    "\n",
    "set_option('display.max_columns', 50) # Кол-во колонок\n",
    "set_option('display.width', 500)      # Ширина поля вывода\n",
    "\n",
    "\n",
    "plt.plot(data_GP_1['Time'], data_GP_1['Open'], 'r', label = 'Open')\n",
    "plt.show()"
   ]
  },
  {
   "cell_type": "code",
   "execution_count": 51,
   "metadata": {},
   "outputs": [
    {
     "data": {
      "image/png": "[encoded data removed]",
      "text/plain": [
       "<matplotlib.figure.Figure at 0xae28dd8>"
      ]
     },
     "metadata": {},
     "output_type": "display_data"
    }
   ],
   "source": [
    "##Газсопрем\n",
    "##(20141215, '  ', 7.5)\n",
    "\n",
    "\n",
    "url_GP_2=\"http://export.finam.ru/SIBN_141215_141215.csv?market=1&em=2&code=SIBN&apply=0&df=15&mf=11&yf=2014&from=15.12.2014&dt=15&mt=11&yt=2014&to=15.12.2014&p=3&f=SIBN_141215_141215&e=.csv&cn=SIBN&dtf=1&tmf=1&MSOR=1&mstime=on&mstimever=1&sep=1&sep2=1&datf=1&at=1\"\n",
    "f = urlopen(url_GP_2)   # Открыли \n",
    "data_GP_2 = f.read()   # Прочитали данные.\n",
    "f.close()\n",
    "\n",
    "data_GP_2 = read_csv(url_GP_2, header=0, index_col=0, parse_dates={'': [0, 1]}, sep=',').sort_index()\n",
    "data_GP_2.columns = ['' + i for i in ['Data','Time','Open', 'High', 'Low', 'Close', 'Volume']] # Заголовки столбцов\n",
    "\n",
    "set_option('display.max_columns', 50) # Кол-во колонок\n",
    "set_option('display.width', 500)      # Ширина поля вывода\n",
    "\n",
    "\n",
    "plt.plot(data_GP_2['Time'], data_GP_2['Open'], 'r', label = 'Open')\n",
    "plt.show()\n"
   ]
  },
  {
   "cell_type": "code",
   "execution_count": null,
   "metadata": {
    "collapsed": true
   },
   "outputs": [],
   "source": []
  },
  {
   "cell_type": "code",
   "execution_count": 52,
   "metadata": {},
   "outputs": [
    {
     "data": {
      "image/png": "[encoded data removed]",
      "text/plain": [
       "<matplotlib.figure.Figure at 0xae57eb8>"
      ]
     },
     "metadata": {},
     "output_type": "display_data"
    }
   ],
   "source": [
    "##Лукоил\n",
    "##(20141205, '  ', 98.0)\n",
    "\n",
    "\n",
    "url_Lk_1=\"http://export.finam.ru/LKOH_141205_141205.csv?market=1&em=8&code=LKOH&apply=0&df=5&mf=11&yf=2014&from=05.12.2014&dt=5&mt=11&yt=2014&to=05.12.2014&p=3&f=LKOH_141205_141205&e=.csv&cn=LKOH&dtf=1&tmf=1&MSOR=1&mstime=on&mstimever=1&sep=1&sep2=1&datf=1&at=1\"\n",
    "f = urlopen(url_Lk_1)   # Открыли \n",
    "data_Lk_1 = f.read()   # Прочитали данные.\n",
    "f.close()\n",
    "\n",
    "data_Lk_1 = read_csv(url_Lk_1, header=0, index_col=0, parse_dates={'': [0, 1]}, sep=',').sort_index()\n",
    "data_Lk_1.columns = ['' + i for i in ['Data','Time','Open', 'High', 'Low', 'Close', 'Volume']] # Заголовки столбцов\n",
    "\n",
    "set_option('display.max_columns', 50) # Кол-во колонок\n",
    "set_option('display.width', 500)      # Ширина поля вывода\n",
    "\n",
    "\n",
    "plt.plot(data_Lk_1['Time'], data_Lk_1['Open'], 'r', label = 'Open')\n",
    "plt.show()"
   ]
  },
  {
   "cell_type": "code",
   "execution_count": 54,
   "metadata": {},
   "outputs": [
    {
     "data": {
      "image/png": "[encoded data removed]",
      "text/plain": [
       "<matplotlib.figure.Figure at 0xb0bacc0>"
      ]
     },
     "metadata": {},
     "output_type": "display_data"
    }
   ],
   "source": [
    "##Лукоил\n",
    "##(20141223, '  ', 118.0)\n",
    "\n",
    "\n",
    "url_Lk_2=\"http://export.finam.ru/LKOH_141223_141223.csv?market=1&em=8&code=LKOH&apply=0&df=23&mf=11&yf=2014&from=23.12.2014&dt=23&mt=11&yt=2014&to=23.12.2014&p=3&f=LKOH_141223_141223&e=.csv&cn=LKOH&dtf=1&tmf=1&MSOR=1&mstime=on&mstimever=1&sep=1&sep2=1&datf=1&at=1\"\n",
    "f = urlopen(url_Lk_2)   # Открыли \n",
    "data_Lk_2 = f.read()   # Прочитали данные.\n",
    "f.close()\n",
    "\n",
    "data_Lk_2 = read_csv(url_Lk_2, header=0, index_col=0, parse_dates={'': [0, 1]}, sep=',').sort_index()\n",
    "data_Lk_2.columns = ['' + i for i in ['Data','Time','Open', 'High', 'Low', 'Close', 'Volume']] # Заголовки столбцов\n",
    "\n",
    "set_option('display.max_columns', 50) # Кол-во колонок\n",
    "set_option('display.width', 500)      # Ширина поля вывода\n",
    "\n",
    "\n",
    "plt.plot(data_Lk_2['Time'], data_Lk_2['Open'], 'r', label = 'Open')\n",
    "plt.show()"
   ]
  },
  {
   "cell_type": "code",
   "execution_count": null,
   "metadata": {
    "collapsed": true
   },
   "outputs": [],
   "source": []
  },
  {
   "cell_type": "code",
   "execution_count": 55,
   "metadata": {},
   "outputs": [
    {
     "data": {
      "image/png": "[encoded data removed]",
      "text/plain": [
       "<matplotlib.figure.Figure at 0xb1b6eb8>"
      ]
     },
     "metadata": {},
     "output_type": "display_data"
    }
   ],
   "source": [
    "##МТС\n",
    "##(20140919, '  ', 30.25)\n",
    "\n",
    "\n",
    "url_MTS_1=\"http://export.finam.ru/MTSS_140919_140919.csv?market=1&em=15523&code=MTSS&apply=0&df=19&mf=8&yf=2014&from=19.09.2014&dt=19&mt=8&yt=2014&to=19.09.2014&p=3&f=MTSS_140919_140919&e=.csv&cn=MTSS&dtf=1&tmf=1&MSOR=1&mstime=on&mstimever=1&sep=1&sep2=1&datf=1&at=1\"\n",
    "f = urlopen(url_MTS_1)   # Открыли \n",
    "data_MTS_1 = f.read()   # Прочитали данные.\n",
    "f.close()\n",
    "\n",
    "data_MTS_1 = read_csv(url_MTS_1, header=0, index_col=0, parse_dates={'': [0, 1]}, sep=',').sort_index()\n",
    "data_MTS_1.columns = ['' + i for i in ['Data','Time','Open', 'High', 'Low', 'Close', 'Volume']] # Заголовки столбцов\n",
    "\n",
    "set_option('display.max_columns', 50) # Кол-во колонок\n",
    "set_option('display.width', 500)      # Ширина поля вывода\n",
    "\n",
    "\n",
    "plt.plot(data_MTS_1['Time'], data_MTS_1['Open'], 'r', label = 'Open')\n",
    "plt.show()\n"
   ]
  },
  {
   "cell_type": "code",
   "execution_count": 57,
   "metadata": {},
   "outputs": [
    {
     "data": {
      "image/png": "[encoded data removed]",
      "text/plain": [
       "<matplotlib.figure.Figure at 0xac4fcc0>"
      ]
     },
     "metadata": {},
     "output_type": "display_data"
    }
   ],
   "source": [
    "##МТС\n",
    "##(20141215, '  ', 27.050000000000011)\n",
    "\n",
    "\n",
    "url_MTS_2=\"http://export.finam.ru/MTSS_141215_141215.csv?market=1&em=15523&code=MTSS&apply=0&df=15&mf=11&yf=2014&from=15.12.2014&dt=15&mt=11&yt=2014&to=15.12.2014&p=3&f=MTSS_141215_141215&e=.csv&cn=MTSS&dtf=1&tmf=1&MSOR=1&mstime=on&mstimever=1&sep=1&sep2=1&datf=1&at=1\"\n",
    "f = urlopen(url_MTS_2)   # Открыли \n",
    "data_MTS_2 = f.read()   # Прочитали данные.\n",
    "f.close()\n",
    "\n",
    "data_MTS_2 = read_csv(url_MTS_2, header=0, index_col=0, parse_dates={'': [0, 1]}, sep=',').sort_index()\n",
    "data_MTS_2.columns = ['' + i for i in ['Data','Time','Open', 'High', 'Low', 'Close', 'Volume']] # Заголовки столбцов\n",
    "\n",
    "set_option('display.max_columns', 50) # Кол-во колонок\n",
    "set_option('display.width', 500)      # Ширина поля вывода\n",
    "\n",
    "\n",
    "plt.plot(data_MTS_2['Time'], data_MTS_2['Open'], 'r', label = 'Open')\n",
    "plt.show()"
   ]
  },
  {
   "cell_type": "code",
   "execution_count": null,
   "metadata": {
    "collapsed": true
   },
   "outputs": [],
   "source": []
  },
  {
   "cell_type": "code",
   "execution_count": 59,
   "metadata": {},
   "outputs": [
    {
     "data": {
      "image/png": "[encoded data removed]",
      "text/plain": [
       "<matplotlib.figure.Figure at 0x97016d8>"
      ]
     },
     "metadata": {},
     "output_type": "display_data"
    }
   ],
   "source": [
    "##Мегафон\n",
    "##(20140228, '  ', 124.70000000000005)\n",
    "\n",
    "\n",
    "url_MF_1=\"http://export.finam.ru/MFON_140228_140228.csv?market=1&em=152516&code=MFON&apply=0&df=28&mf=1&yf=2014&from=28.02.2014&dt=28&mt=1&yt=2014&to=28.02.2014&p=3&f=MFON_140228_140228&e=.csv&cn=MFON&dtf=1&tmf=1&MSOR=1&mstime=on&mstimever=1&sep=1&sep2=1&datf=1&at=1\"\n",
    "f = urlopen(url_MF_1)   # Открыли \n",
    "data_MF_1 = f.read()   # Прочитали данные.\n",
    "f.close()\n",
    "\n",
    "data_MF_1 = read_csv(url_MF_1, header=0, index_col=0, parse_dates={'': [0, 1]}, sep=',').sort_index()\n",
    "data_MF_1.columns = ['' + i for i in ['Data','Time','Open', 'High', 'Low', 'Close', 'Volume']] # Заголовки столбцов\n",
    "\n",
    "set_option('display.max_columns', 50) # Кол-во колонок\n",
    "set_option('display.width', 500)      # Ширина поля вывода\n",
    "\n",
    "\n",
    "plt.plot(data_MF_1['Time'], data_MF_1['Open'], 'r', label = 'Open')\n",
    "plt.show()\n"
   ]
  },
  {
   "cell_type": "code",
   "execution_count": 61,
   "metadata": {},
   "outputs": [
    {
     "data": {
      "image/png": "[encoded data removed]",
      "text/plain": [
       "<matplotlib.figure.Figure at 0xb54c9b0>"
      ]
     },
     "metadata": {},
     "output_type": "display_data"
    }
   ],
   "source": [
    "##Мегафон\n",
    "##(20141216, '  ', 110.0)\n",
    "\n",
    "\n",
    "url_MF_2=\"http://export.finam.ru/MFON_141216_141216.csv?market=1&em=152516&code=MFON&apply=0&df=16&mf=11&yf=2014&from=16.12.2014&dt=16&mt=11&yt=2014&to=16.12.2014&p=3&f=MFON_141216_141216&e=.csv&cn=MFON&dtf=1&tmf=1&MSOR=1&mstime=on&mstimever=1&sep=1&sep2=1&datf=1&at=1\"\n",
    "f = urlopen(url_MF_2)   # Открыли \n",
    "data_MF_2 = f.read()   # Прочитали данные.\n",
    "f.close()\n",
    "\n",
    "data_MF_2 = read_csv(url_MF_2, header=0, index_col=0, parse_dates={'': [0, 1]}, sep=',').sort_index()\n",
    "data_MF_2.columns = ['' + i for i in ['Data','Time','Open', 'High', 'Low', 'Close', 'Volume']] # Заголовки столбцов\n",
    "\n",
    "set_option('display.max_columns', 50) # Кол-во колонок\n",
    "set_option('display.width', 500)      # Ширина поля вывода\n",
    "\n",
    "\n",
    "plt.plot(data_MF_2['Time'], data_MF_2['Open'], 'r', label = 'Open')\n",
    "plt.show()"
   ]
  },
  {
   "cell_type": "code",
   "execution_count": null,
   "metadata": {
    "collapsed": true
   },
   "outputs": [],
   "source": []
  },
  {
   "cell_type": "code",
   "execution_count": 62,
   "metadata": {},
   "outputs": [
    {
     "data": {
      "image/png": "[encoded data removed]",
      "text/plain": [
       "<matplotlib.figure.Figure at 0xb7c5dd8>"
      ]
     },
     "metadata": {},
     "output_type": "display_data"
    }
   ],
   "source": [
    "##Ростелеком\n",
    "##(20140228, '  ', 8.1200000000000045)\n",
    "\n",
    "\n",
    "url_RT_1=\"http://export.finam.ru/RTKM_140228_140228.csv?market=1&em=7&code=RTKM&apply=0&df=28&mf=1&yf=2014&from=28.02.2014&dt=28&mt=1&yt=2014&to=28.02.2014&p=3&f=RTKM_140228_140228&e=.csv&cn=RTKM&dtf=1&tmf=1&MSOR=1&mstime=on&mstimever=1&sep=1&sep2=1&datf=1&at=1\"\n",
    "f = urlopen(url_RT_1)   # Открыли \n",
    "data_RT_1 = f.read()   # Прочитали данные.\n",
    "f.close()\n",
    "\n",
    "data_RT_1 = read_csv(url_RT_1, header=0, index_col=0, parse_dates={'': [0, 1]}, sep=',').sort_index()\n",
    "data_RT_1.columns = ['' + i for i in ['Data','Time','Open', 'High', 'Low', 'Close', 'Volume']] # Заголовки столбцов\n",
    "\n",
    "set_option('display.max_columns', 50) # Кол-во колонок\n",
    "set_option('display.width', 500)      # Ширина поля вывода\n",
    "\n",
    "\n",
    "plt.plot(data_RT_1['Time'], data_RT_1['Open'], 'r', label = 'Open')\n",
    "plt.show()\n"
   ]
  },
  {
   "cell_type": "code",
   "execution_count": 63,
   "metadata": {},
   "outputs": [
    {
     "data": {
      "image/png": "[encoded data removed]",
      "text/plain": [
       "<matplotlib.figure.Figure at 0xb666320>"
      ]
     },
     "metadata": {},
     "output_type": "display_data"
    }
   ],
   "source": [
    "##Ростелеком\n",
    "##(20141217, '  ', 8.8700000000000045)\n",
    "\n",
    "\n",
    "url_RT_2=\"http://export.finam.ru/RTKM_141217_141217.csv?market=1&em=7&code=RTKM&apply=0&df=17&mf=11&yf=2014&from=17.12.2014&dt=17&mt=11&yt=2014&to=17.12.2014&p=3&f=RTKM_141217_141217&e=.csv&cn=RTKM&dtf=1&tmf=1&MSOR=1&mstime=on&mstimever=1&sep=1&sep2=1&datf=1&at=1\"\n",
    "f = urlopen(url_RT_2)   # Открыли \n",
    "data_RT_2 = f.read()   # Прочитали данные.\n",
    "f.close()\n",
    "\n",
    "data_RT_2 = read_csv(url_RT_2, header=0, index_col=0, parse_dates={'': [0, 1]}, sep=',').sort_index()\n",
    "data_RT_2.columns = ['' + i for i in ['Data','Time','Open', 'High', 'Low', 'Close', 'Volume']] # Заголовки столбцов\n",
    "\n",
    "set_option('display.max_columns', 50) # Кол-во колонок\n",
    "set_option('display.width', 500)      # Ширина поля вывода\n",
    "\n",
    "\n",
    "plt.plot(data_RT_2['Time'], data_RT_2['Open'], 'r', label = 'Open')\n",
    "plt.show()"
   ]
  },
  {
   "cell_type": "code",
   "execution_count": null,
   "metadata": {
    "collapsed": true
   },
   "outputs": [],
   "source": []
  },
  {
   "cell_type": "code",
   "execution_count": 64,
   "metadata": {},
   "outputs": [
    {
     "data": {
      "image/png": "[encoded data removed]",
      "text/plain": [
       "<matplotlib.figure.Figure at 0xb670e48>"
      ]
     },
     "metadata": {},
     "output_type": "display_data"
    }
   ],
   "source": [
    "##Сбербанк\n",
    "##(20140303, '  ', 6.9300000000000068)\n",
    "\n",
    "\n",
    "url_SB_1=\"http://export.finam.ru/SBER_140303_140303.csv?market=1&em=3&code=SBER&apply=0&df=3&mf=2&yf=2014&from=03.03.2014&dt=3&mt=2&yt=2014&to=03.03.2014&p=3&f=SBER_140303_140303&e=.csv&cn=SBER&dtf=1&tmf=1&MSOR=1&mstime=on&mstimever=1&sep=1&sep2=1&datf=1&at=1\"\n",
    "f = urlopen(url_SB_1)   # Открыли \n",
    "data_SB_1 = f.read()   # Прочитали данные.\n",
    "f.close()\n",
    "\n",
    "data_SB_1 = read_csv(url_SB_1, header=0, index_col=0, parse_dates={'': [0, 1]}, sep=',').sort_index()\n",
    "data_SB_1.columns = ['' + i for i in ['Data','Time','Open', 'High', 'Low', 'Close', 'Volume']] # Заголовки столбцов\n",
    "\n",
    "set_option('display.max_columns', 50) # Кол-во колонок\n",
    "set_option('display.width', 500)      # Ширина поля вывода\n",
    "\n",
    "\n",
    "plt.plot(data_SB_1['Time'], data_SB_1['Open'], 'r', label = 'Open')\n",
    "plt.show()\n"
   ]
  },
  {
   "cell_type": "code",
   "execution_count": 66,
   "metadata": {},
   "outputs": [
    {
     "data": {
      "image/png": "[encoded data removed]",
      "text/plain": [
       "<matplotlib.figure.Figure at 0xb9d9d30>"
      ]
     },
     "metadata": {},
     "output_type": "display_data"
    }
   ],
   "source": [
    "##Сбербанк\n",
    "##(20140313, '  ', 5.5)\n",
    "\n",
    "\n",
    "url_SB_2=\"http://export.finam.ru/SBER_140313_140313.csv?market=1&em=3&code=SBER&apply=0&df=13&mf=2&yf=2014&from=13.03.2014&dt=13&mt=2&yt=2014&to=13.03.2014&p=3&f=SBER_140313_140313&e=.csv&cn=SBER&dtf=1&tmf=1&MSOR=1&mstime=on&mstimever=1&sep=1&sep2=1&datf=1&at=1\"\n",
    "f = urlopen(url_SB_2)   # Открыли \n",
    "data_SB_2 = f.read()   # Прочитали данные.\n",
    "f.close()\n",
    "\n",
    "data_SB_2 = read_csv(url_SB_2, header=0, index_col=0, parse_dates={'': [0, 1]}, sep=',').sort_index()\n",
    "data_SB_2.columns = ['' + i for i in ['Data','Time','Open', 'High', 'Low', 'Close', 'Volume']] # Заголовки столбцов\n",
    "\n",
    "set_option('display.max_columns', 50) # Кол-во колонок\n",
    "set_option('display.width', 500)      # Ширина поля вывода\n",
    "\n",
    "\n",
    "plt.plot(data_SB_2['Time'], data_SB_2['Open'], 'r', label = 'Open')\n",
    "plt.show()"
   ]
  },
  {
   "cell_type": "code",
   "execution_count": null,
   "metadata": {
    "collapsed": true
   },
   "outputs": [],
   "source": []
  },
  {
   "cell_type": "code",
   "execution_count": 67,
   "metadata": {},
   "outputs": [
    {
     "data": {
      "image/png": "[encoded data removed]",
      "text/plain": [
       "<matplotlib.figure.Figure at 0x9743d68>"
      ]
     },
     "metadata": {},
     "output_type": "display_data"
    }
   ],
   "source": [
    "##ВТБ\n",
    "##(20140303, '  ', 0.00528)\n",
    "\n",
    "\n",
    "url_VTB_1=\"http://export.finam.ru/VTBR_140303_140303.csv?market=1&em=19043&code=VTBR&apply=0&df=3&mf=2&yf=2014&from=03.03.2014&dt=3&mt=2&yt=2014&to=03.03.2014&p=3&f=VTBR_140303_140303&e=.csv&cn=VTBR&dtf=1&tmf=1&MSOR=1&mstime=on&mstimever=1&sep=1&sep2=1&datf=1&at=1\"\n",
    "f = urlopen(url_VTB_1)   # Открыли \n",
    "data_VTB_1 = f.read()   # Прочитали данные.\n",
    "f.close()\n",
    "\n",
    "data_VTB_1 = read_csv(url_VTB_1, header=0, index_col=0, parse_dates={'': [0, 1]}, sep=',').sort_index()\n",
    "data_VTB_1.columns = ['' + i for i in ['Data','Time','Open', 'High', 'Low', 'Close', 'Volume']] # Заголовки столбцов\n",
    "\n",
    "set_option('display.max_columns', 50) # Кол-во колонок\n",
    "set_option('display.width', 500)      # Ширина поля вывода\n",
    "\n",
    "\n",
    "plt.plot(data_VTB_1['Time'], data_VTB_1['Open'], 'r', label = 'Open')\n",
    "plt.show()\n"
   ]
  },
  {
   "cell_type": "code",
   "execution_count": null,
   "metadata": {
    "collapsed": true
   },
   "outputs": [],
   "source": []
  },
  {
   "cell_type": "code",
   "execution_count": null,
   "metadata": {
    "collapsed": true
   },
   "outputs": [],
   "source": []
  },
  {
   "cell_type": "code",
   "execution_count": null,
   "metadata": {
    "collapsed": true
   },
   "outputs": [],
   "source": []
  },
  {
   "cell_type": "code",
   "execution_count": null,
   "metadata": {
    "collapsed": true
   },
   "outputs": [],
   "source": []
  },
  {
   "cell_type": "code",
   "execution_count": null,
   "metadata": {
    "collapsed": true
   },
   "outputs": [],
   "source": []
  },
  {
   "cell_type": "code",
   "execution_count": null,
   "metadata": {
    "collapsed": true
   },
   "outputs": [],
   "source": []
  },
  {
   "cell_type": "code",
   "execution_count": null,
   "metadata": {
    "collapsed": true
   },
   "outputs": [],
   "source": []
  },
  {
   "cell_type": "code",
   "execution_count": null,
   "metadata": {
    "collapsed": true
   },
   "outputs": [],
   "source": []
  },
  {
   "cell_type": "code",
   "execution_count": null,
   "metadata": {
    "collapsed": true
   },
   "outputs": [],
   "source": []
  },
  {
   "cell_type": "code",
   "execution_count": null,
   "metadata": {
    "collapsed": true
   },
   "outputs": [],
   "source": []
  },
  {
   "cell_type": "code",
   "execution_count": null,
   "metadata": {
    "collapsed": true
   },
   "outputs": [],
   "source": []
  },
  {
   "cell_type": "code",
   "execution_count": null,
   "metadata": {
    "collapsed": true
   },
   "outputs": [],
   "source": []
  },
  {
   "cell_type": "code",
   "execution_count": null,
   "metadata": {
    "collapsed": true
   },
   "outputs": [],
   "source": []
  },
  {
   "cell_type": "code",
   "execution_count": null,
   "metadata": {
    "collapsed": true
   },
   "outputs": [],
   "source": []
  },
  {
   "cell_type": "code",
   "execution_count": 68,
   "metadata": {
    "collapsed": true
   },
   "outputs": [],
   "source": [
    "import pandas as pd\n",
    "import math\n",
    "dataUSD= pd.read_excel('USD.xls')\n"
   ]
  },
  {
   "cell_type": "code",
   "execution_count": 69,
   "metadata": {},
   "outputs": [
    {
     "data": {
      "text/plain": [
       "250"
      ]
     },
     "execution_count": 69,
     "metadata": {},
     "output_type": "execute_result"
    }
   ],
   "source": [
    "len(data_AF['Open'])"
   ]
  },
  {
   "cell_type": "code",
   "execution_count": 70,
   "metadata": {
    "collapsed": true
   },
   "outputs": [],
   "source": [
    "data_AF_USD=[0]*250"
   ]
  },
  {
   "cell_type": "code",
   "execution_count": 71,
   "metadata": {
    "collapsed": true
   },
   "outputs": [],
   "source": [
    "for i in range(250):\n",
    "    data_AF_USD[i]=data_AF['Open'][i]/dataUSD['USD'][i]\n",
    "\n",
    "#print(data_AF['Open'][1])\n",
    "\n",
    "#print(dataUSD['USD'][1])"
   ]
  },
  {
   "cell_type": "code",
   "execution_count": 72,
   "metadata": {
    "collapsed": true
   },
   "outputs": [],
   "source": [
    "#Логарифмическая слишком все приближает(\n",
    "#for i in range(1,250):\n",
    "#    data_AF_USD[i]=math.log(data_AF_USD[i]/data_AF_USD[i-1])\n",
    "#data_AF_USD[0]=data_AF_USD[1]"
   ]
  },
  {
   "cell_type": "code",
   "execution_count": 73,
   "metadata": {},
   "outputs": [
    {
     "data": {
      "text/plain": [
       "[2.5506220394565609,\n",
       " 2.5643930579200704,\n",
       " 2.5705248524895357,\n",
       " 2.5414361257490343,\n",
       " 2.5000980253176777,\n",
       " 2.6139696803608961,\n",
       " 2.5784712745015161,\n",
       " 2.5407207283098567,\n",
       " 2.54225601237551,\n",
       " 2.5223569142518407,\n",
       " 2.571610591518291,\n",
       " 2.4034788915343208,\n",
       " 2.3216751783913581,\n",
       " 2.3413879440665153,\n",
       " 2.2830513554331922,\n",
       " 2.3972562755399882,\n",
       " 2.3665127213743866,\n",
       " 2.3393501805054151,\n",
       " 2.3594390581917817,\n",
       " 2.3600644634102057,\n",
       " 2.2330869812393406,\n",
       " 2.181939962593693,\n",
       " 2.1602134825755566,\n",
       " 2.2712190210302294,\n",
       " 2.297523374039339,\n",
       " 2.3118447365074961,\n",
       " 2.3303110149696815,\n",
       " 2.3479440401880658,\n",
       " 2.310735194694975,\n",
       " 2.3111720513695779,\n",
       " 2.2901131441829596,\n",
       " 2.2745144967177242,\n",
       " 2.2069548733491113,\n",
       " 2.2036941805275712,\n",
       " 2.1614896412894566,\n",
       " 2.1649085834071315,\n",
       " 2.1826916578431592,\n",
       " 2.1916444784336,\n",
       " 2.05017436401842,\n",
       " 1.8726716430744992,\n",
       " 1.6487631512766445,\n",
       " 1.6867151936313858,\n",
       " 1.7273848593643313,\n",
       " 1.7325806639342221,\n",
       " 1.6819330603929121,\n",
       " 1.6168529968175878,\n",
       " 1.6208123291622598,\n",
       " 1.414221698436408,\n",
       " 1.31005085498922,\n",
       " 1.2964292245169777,\n",
       " 1.3383173490129738,\n",
       " 1.4568420821593089,\n",
       " 1.5245670726655067,\n",
       " 1.5304045352704794,\n",
       " 1.4820532824939152,\n",
       " 1.5163287369733705,\n",
       " 1.5279030157298865,\n",
       " 1.5232979965810425,\n",
       " 1.5232848992439785,\n",
       " 1.5579859388966881,\n",
       " 1.5733612692492411,\n",
       " 1.5960484239378712,\n",
       " 1.5914126127250601,\n",
       " 1.5542553371213614,\n",
       " 1.493760739134109,\n",
       " 1.5084061926417973,\n",
       " 1.5219073071242704,\n",
       " 1.4898193810787903,\n",
       " 1.4801128294256443,\n",
       " 1.4796246340237875,\n",
       " 1.3915363027591765,\n",
       " 1.4514716309591669,\n",
       " 1.4966201328666096,\n",
       " 1.4996367806238469,\n",
       " 1.50820650048257,\n",
       " 1.4668281523348137,\n",
       " 1.4538167243578064,\n",
       " 1.4244654749386609,\n",
       " 1.3765658717036122,\n",
       " 1.4136252431886309,\n",
       " 1.4226429235659064,\n",
       " 1.3880212783241777,\n",
       " 1.381754458649542,\n",
       " 1.4194390885677532,\n",
       " 1.4135464871687,\n",
       " 1.4708243772026446,\n",
       " 1.4619958155293526,\n",
       " 1.4729146726272468,\n",
       " 1.5178230964852675,\n",
       " 1.5313031202281826,\n",
       " 1.5071828936182476,\n",
       " 1.5310787420139507,\n",
       " 1.5475224097134663,\n",
       " 1.5545928261566961,\n",
       " 1.5790632842429826,\n",
       " 1.5425814318469555,\n",
       " 1.5748719906510191,\n",
       " 1.5802401025908894,\n",
       " 1.559968590452782,\n",
       " 1.5709128865306832,\n",
       " 1.5934495686632169,\n",
       " 1.5888781409060548,\n",
       " 1.6277476661497849,\n",
       " 1.6540279622409779,\n",
       " 1.6334754324156653,\n",
       " 1.6499399787418743,\n",
       " 1.6547740302908767,\n",
       " 1.7092772274055279,\n",
       " 1.7190359664921833,\n",
       " 1.7114038231258033,\n",
       " 1.6458655186978888,\n",
       " 1.588646777460176,\n",
       " 1.5966367249419928,\n",
       " 1.6287442606224034,\n",
       " 1.6258461896045791,\n",
       " 1.6458720467215291,\n",
       " 1.7065318470212942,\n",
       " 1.6851977467779518,\n",
       " 1.6767009967171151,\n",
       " 1.671394503814978,\n",
       " 1.6735907148808924,\n",
       " 1.6536410780804909,\n",
       " 1.6730122395590019,\n",
       " 1.6707169782628406,\n",
       " 1.6038527427192952,\n",
       " 1.6882128837603525,\n",
       " 1.7237072195853109,\n",
       " 1.7593130608819163,\n",
       " 1.743741004217489,\n",
       " 1.7426053050366725,\n",
       " 1.7354685473647398,\n",
       " 1.7162075275730748,\n",
       " 1.7210843005586689,\n",
       " 1.6178253898010908,\n",
       " 1.5496534680215115,\n",
       " 1.4950128241664291,\n",
       " 1.5385844794470114,\n",
       " 1.5458157258956453,\n",
       " 1.5251463855456033,\n",
       " 1.4902934086467829,\n",
       " 1.4315744206508854,\n",
       " 1.4034388601865078,\n",
       " 1.4157320353457179,\n",
       " 1.4177373757892775,\n",
       " 1.3734633556505966,\n",
       " 1.3878100419231363,\n",
       " 1.303678625201474,\n",
       " 1.2608625817636014,\n",
       " 1.22704802259887,\n",
       " 1.2484188980439608,\n",
       " 1.2824745127956168,\n",
       " 1.2543988472941896,\n",
       " 1.2887124470628508,\n",
       " 1.3432483802494486,\n",
       " 1.3555028415561619,\n",
       " 1.3719351418563728,\n",
       " 1.3777575922059075,\n",
       " 1.3717424911660778,\n",
       " 1.3753829300583238,\n",
       " 1.3637866048935221,\n",
       " 1.3754114744975789,\n",
       " 1.3435429684689419,\n",
       " 1.3254122198025995,\n",
       " 1.2794275216015292,\n",
       " 1.2707275070671185,\n",
       " 1.2674791189049324,\n",
       " 1.2568276748420264,\n",
       " 1.2832846083556861,\n",
       " 1.2754117781316059,\n",
       " 1.2832492369027597,\n",
       " 1.2654166194798122,\n",
       " 1.2693748463921397,\n",
       " 1.2671747920999319,\n",
       " 1.2208434334515919,\n",
       " 1.2277417041787835,\n",
       " 1.2159711052200672,\n",
       " 1.2078293175699766,\n",
       " 1.2032085561497328,\n",
       " 1.1850321049220607,\n",
       " 1.1959368345421129,\n",
       " 1.179163361691318,\n",
       " 1.1818802499275873,\n",
       " 1.1731756246254852,\n",
       " 1.1592477422083669,\n",
       " 1.1248750784391197,\n",
       " 1.1044365342527662,\n",
       " 1.0936024131872149,\n",
       " 1.0758842573448577,\n",
       " 1.0832570535610433,\n",
       " 1.070330999042773,\n",
       " 1.0589765394427493,\n",
       " 1.0678959380197626,\n",
       " 1.0479742083292689,\n",
       " 1.0172586293146575,\n",
       " 0.99471557351569784,\n",
       " 0.98375453501665222,\n",
       " 0.98469297120186317,\n",
       " 0.98921390468374459,\n",
       " 0.98415292902073104,\n",
       " 0.98404190522597146,\n",
       " 0.97843767963504269,\n",
       " 0.97344464447102441,\n",
       " 0.93733752206038501,\n",
       " 0.89069255201731257,\n",
       " 0.90384859160824782,\n",
       " 0.89869534227896752,\n",
       " 0.90698080361565725,\n",
       " 0.88740402086630321,\n",
       " 0.88606107253717659,\n",
       " 0.91247703317470041,\n",
       " 0.9127153400519985,\n",
       " 0.89641052899482654,\n",
       " 0.91865956702828788,\n",
       " 0.87076574751344049,\n",
       " 0.9611571364446555,\n",
       " 0.971883704735376,\n",
       " 0.93875639595234139,\n",
       " 0.88827122083632348,\n",
       " 0.8737761647535448,\n",
       " 0.86388114820769479,\n",
       " 0.87697452303867418,\n",
       " 0.84734230077355865,\n",
       " 0.90804565707519791,\n",
       " 0.9398898511986653,\n",
       " 0.92396595303805718,\n",
       " 0.93717065621956697,\n",
       " 0.90038858875935923,\n",
       " 0.85412343772619792,\n",
       " 0.84140951299622879,\n",
       " 0.81051136144289937,\n",
       " 0.82690209148318417,\n",
       " 0.7541084290602974,\n",
       " 0.77391390160400209,\n",
       " 0.72078450275660533,\n",
       " 0.71096404097704091,\n",
       " 0.69560758214109164,\n",
       " 0.70326001643458047,\n",
       " 0.67325872553528543,\n",
       " 0.65914479917176261,\n",
       " 0.60758131220424338,\n",
       " 0.49712842920498695,\n",
       " 0.44523058902325141,\n",
       " 0.52849777443714985,\n",
       " 0.54612120463065961,\n",
       " 0.5906821963394342,\n",
       " 0.62123525024418758,\n",
       " 0.6118407892636073,\n",
       " 0.64524221765663992,\n",
       " 0.64515137130700329,\n",
       " 0.57427562760122153]"
      ]
     },
     "execution_count": 73,
     "metadata": {},
     "output_type": "execute_result"
    }
   ],
   "source": [
    "data_AF_USD"
   ]
  },
  {
   "cell_type": "code",
   "execution_count": 74,
   "metadata": {},
   "outputs": [
    {
     "data": {
      "image/png": "[encoded data removed]",
      "text/plain": [
       "<matplotlib.figure.Figure at 0xb7cb5c0>"
      ]
     },
     "metadata": {},
     "output_type": "display_data"
    }
   ],
   "source": [
    "plt.plot(a, data_AF['Open'], 'b', label = 'Open')\n",
    "plt.show()"
   ]
  },
  {
   "cell_type": "code",
   "execution_count": 75,
   "metadata": {},
   "outputs": [
    {
     "data": {
      "image/png": "[encoded data removed]",
      "text/plain": [
       "<matplotlib.figure.Figure at 0xb2b3198>"
      ]
     },
     "metadata": {},
     "output_type": "display_data"
    }
   ],
   "source": [
    "plt.plot(a, data_AF_USD, 'b', label = 'Open')\n",
    "plt.show()"
   ]
  },
  {
   "cell_type": "code",
   "execution_count": 76,
   "metadata": {},
   "outputs": [
    {
     "name": "stdout",
     "output_type": "stream",
     "text": [
      "(20140121, '  ', 0.16813169998397015)\n",
      "(20140203, '  ', 0.12697748217086513)\n",
      "(20140227, '  ', 0.14147011441517998)\n",
      "(20140228, '  ', 0.17750272094392083)\n",
      "(20140303, '  ', 0.22390849179785466)\n",
      "(20140313, '  ', 0.20659063072585182)\n",
      "(20140314, '  ', 0.10417084344718797)\n",
      "(20140415, '  ', 0.088088331264611019)\n",
      "(20140717, '  ', 0.10325891075757809)\n",
      "(20140805, '  ', 0.084131416721662244)\n",
      "(20141107, '  ', 0.047893819514847391)\n",
      "(20141113, '  ', 0.050485175116017911)\n",
      "(20141127, '  ', 0.046265151033161311)\n",
      "(20141203, '  ', 0.072793662422886762)\n",
      "(20141205, '  ', 0.053129398847396758)\n",
      "(20141215, '  ', 0.051563486967519223)\n",
      "(20141216, '  ', 0.11045288299925643)\n",
      "(20141217, '  ', 0.051897840181735544)\n",
      "(20141229, '  ', 0.070875743705781757)\n"
     ]
    }
   ],
   "source": [
    "for i in range(len(data_AF)-1):\n",
    "    if (data_AF['Open'][i]/dataUSD['USD'][i]-data_AF['Open'][i+1]/dataUSD['USD'][i+1])>(0.05*data_AF['Open'][i]/dataUSD['USD'][i]):\n",
    "        print (data_AF['Data'][i],'  ',data_AF['Open'][i]/dataUSD['USD'][i]-data_AF['Open'][i+1]/dataUSD['USD'][i+1])"
   ]
  },
  {
   "cell_type": "code",
   "execution_count": null,
   "metadata": {
    "collapsed": true
   },
   "outputs": [],
   "source": []
  },
  {
   "cell_type": "code",
   "execution_count": null,
   "metadata": {
    "collapsed": true
   },
   "outputs": [],
   "source": []
  },
  {
   "cell_type": "code",
   "execution_count": null,
   "metadata": {
    "collapsed": true
   },
   "outputs": [],
   "source": []
  },
  {
   "cell_type": "code",
   "execution_count": 77,
   "metadata": {
    "collapsed": true
   },
   "outputs": [],
   "source": [
    "data_GP_USD=[0]*250\n",
    "for i in range(250):\n",
    "    data_GP_USD[i]=data_GP['Open'][i]/dataUSD['USD'][i]"
   ]
  },
  {
   "cell_type": "code",
   "execution_count": 78,
   "metadata": {},
   "outputs": [
    {
     "data": {
      "image/png": "[encoded data removed]",
      "text/plain": [
       "<matplotlib.figure.Figure at 0xb28ad68>"
      ]
     },
     "metadata": {},
     "output_type": "display_data"
    }
   ],
   "source": [
    "plt.plot(a, data_GP['Open'], 'b', label = 'Open')\n",
    "plt.show()"
   ]
  },
  {
   "cell_type": "code",
   "execution_count": 79,
   "metadata": {},
   "outputs": [
    {
     "data": {
      "image/png": "[encoded data removed]",
      "text/plain": [
       "<matplotlib.figure.Figure at 0xb0b5f28>"
      ]
     },
     "metadata": {},
     "output_type": "display_data"
    }
   ],
   "source": [
    "plt.plot(a, data_GP_USD, 'b', label = 'Open')\n",
    "plt.show()"
   ]
  },
  {
   "cell_type": "code",
   "execution_count": 80,
   "metadata": {},
   "outputs": [
    {
     "name": "stdout",
     "output_type": "stream",
     "text": [
      "(20140228, '  ', 0.21709131072254184)\n",
      "(20140303, '  ', 0.20786453716971653)\n",
      "(20141105, '  ', 0.21902871705508886)\n",
      "(20141201, '  ', 0.1631026906527504)\n",
      "(20141203, '  ', 0.17873490713606666)\n",
      "(20141215, '  ', 0.19408133817412709)\n",
      "(20141217, '  ', 0.26733947336607411)\n",
      "(20141229, '  ', 0.16949190624083954)\n"
     ]
    }
   ],
   "source": [
    "for i in range(len(data_GP)-1):\n",
    "    if (data_GP['Open'][i]/dataUSD['USD'][i]-data_GP['Open'][i+1]/dataUSD['USD'][i+1])>(0.05*data_GP['Open'][i]/dataUSD['USD'][i]):\n",
    "        print (data_GP['Data'][i],'  ',data_GP['Open'][i]/dataUSD['USD'][i]-data_GP['Open'][i+1]/dataUSD['USD'][i+1])"
   ]
  },
  {
   "cell_type": "code",
   "execution_count": null,
   "metadata": {
    "collapsed": true
   },
   "outputs": [],
   "source": []
  },
  {
   "cell_type": "code",
   "execution_count": 81,
   "metadata": {
    "collapsed": true
   },
   "outputs": [],
   "source": [
    "data_Lk_USD=[0]*250\n",
    "for i in range(250):\n",
    "    data_Lk_USD[i]=data_Lk['Open'][i]/dataUSD['USD'][i]"
   ]
  },
  {
   "cell_type": "code",
   "execution_count": 82,
   "metadata": {},
   "outputs": [
    {
     "data": {
      "image/png": "[encoded data removed]",
      "text/plain": [
       "<matplotlib.figure.Figure at 0xb4fa940>"
      ]
     },
     "metadata": {},
     "output_type": "display_data"
    }
   ],
   "source": [
    "plt.plot(a, data_Lk['Open'], 'b', label = 'Open')\n",
    "plt.show()"
   ]
  },
  {
   "cell_type": "code",
   "execution_count": 83,
   "metadata": {},
   "outputs": [
    {
     "data": {
      "image/png": "[encoded data removed]",
      "text/plain": [
       "<matplotlib.figure.Figure at 0xb5246a0>"
      ]
     },
     "metadata": {},
     "output_type": "display_data"
    }
   ],
   "source": [
    "plt.plot(a, data_Lk_USD, 'b', label = 'Open')\n",
    "plt.show()"
   ]
  },
  {
   "cell_type": "code",
   "execution_count": 84,
   "metadata": {},
   "outputs": [
    {
     "name": "stdout",
     "output_type": "stream",
     "text": [
      "(20140303, '  ', 2.7418631231822559)\n",
      "(20141107, '  ', 2.6408013459296384)\n",
      "(20141217, '  ', 4.6832584255305036)\n",
      "(20141229, '  ', 3.1012739541871852)\n"
     ]
    }
   ],
   "source": [
    "for i in range(len(data_Lk)-1):\n",
    "    if (data_Lk['Open'][i]/dataUSD['USD'][i]-data_Lk['Open'][i+1]/dataUSD['USD'][i+1])>(0.05*data_Lk['Open'][i]/dataUSD['USD'][i]):\n",
    "        print (data_Lk['Data'][i],'  ',data_Lk['Open'][i]/dataUSD['USD'][i]-data_Lk['Open'][i+1]/dataUSD['USD'][i+1])"
   ]
  },
  {
   "cell_type": "code",
   "execution_count": null,
   "metadata": {
    "collapsed": true
   },
   "outputs": [],
   "source": []
  },
  {
   "cell_type": "code",
   "execution_count": null,
   "metadata": {
    "collapsed": true
   },
   "outputs": [],
   "source": []
  },
  {
   "cell_type": "code",
   "execution_count": null,
   "metadata": {
    "collapsed": true
   },
   "outputs": [],
   "source": []
  },
  {
   "cell_type": "code",
   "execution_count": 85,
   "metadata": {
    "collapsed": true
   },
   "outputs": [],
   "source": [
    "data_MTS_USD=[0]*241\n",
    "for i in range(241):\n",
    "    data_MTS_USD[i]=data_MTS['Open'][i]/dataUSD['USD'][i]"
   ]
  },
  {
   "cell_type": "code",
   "execution_count": 86,
   "metadata": {},
   "outputs": [
    {
     "data": {
      "image/png": "[encoded data removed]",
      "text/plain": [
       "<matplotlib.figure.Figure at 0xbd076d8>"
      ]
     },
     "metadata": {},
     "output_type": "display_data"
    }
   ],
   "source": [
    "plt.plot(b, data_MTS['Open'], 'b', label = 'Open')\n",
    "plt.show()"
   ]
  },
  {
   "cell_type": "code",
   "execution_count": 87,
   "metadata": {},
   "outputs": [
    {
     "data": {
      "image/png": "[encoded data removed]",
      "text/plain": [
       "<matplotlib.figure.Figure at 0xad3ea90>"
      ]
     },
     "metadata": {},
     "output_type": "display_data"
    }
   ],
   "source": [
    "plt.plot(b, data_MTS_USD, 'b', label = 'Open')\n",
    "plt.show()"
   ]
  },
  {
   "cell_type": "code",
   "execution_count": 88,
   "metadata": {},
   "outputs": [
    {
     "name": "stdout",
     "output_type": "stream",
     "text": [
      "(20140228, '  ', 0.39172614171243758)\n",
      "(20140303, '  ', 0.47235825094407069)\n",
      "(20140829, '  ', 0.46023724188421422)\n",
      "(20140919, '  ', 0.7860716275978179)\n",
      "(20141009, '  ', 0.45681159904217594)\n",
      "(20141010, '  ', 0.3079336184106829)\n",
      "(20141208, '  ', 0.36369716168785882)\n",
      "(20141211, '  ', 0.28488392700246612)\n",
      "(20141215, '  ', 0.45499528014458379)\n",
      "(20141216, '  ', 0.17099763024492942)\n",
      "(20141223, '  ', 0.27498020009570334)\n"
     ]
    }
   ],
   "source": [
    "for i in range(len(data_MTS)-1):\n",
    "    if (data_MTS['Open'][i]/dataUSD['USD'][i]-data_MTS['Open'][i+1]/dataUSD['USD'][i+1])>(0.05*data_MTS['Open'][i]/dataUSD['USD'][i]):\n",
    "        print (data_MTS['Data'][i],'  ',data_MTS['Open'][i]/dataUSD['USD'][i]-data_MTS['Open'][i+1]/dataUSD['USD'][i+1])"
   ]
  },
  {
   "cell_type": "code",
   "execution_count": null,
   "metadata": {
    "collapsed": true
   },
   "outputs": [],
   "source": []
  },
  {
   "cell_type": "code",
   "execution_count": null,
   "metadata": {
    "collapsed": true
   },
   "outputs": [],
   "source": []
  },
  {
   "cell_type": "code",
   "execution_count": null,
   "metadata": {
    "collapsed": true
   },
   "outputs": [],
   "source": []
  },
  {
   "cell_type": "code",
   "execution_count": 89,
   "metadata": {
    "collapsed": true
   },
   "outputs": [],
   "source": [
    "data_MF_USD=[0]*250\n",
    "for i in range(250):\n",
    "    data_MF_USD[i]=data_MF['Open'][i]/dataUSD['USD'][i]"
   ]
  },
  {
   "cell_type": "code",
   "execution_count": 90,
   "metadata": {},
   "outputs": [
    {
     "data": {
      "image/png": "[encoded data removed]",
      "text/plain": [
       "<matplotlib.figure.Figure at 0x968ed68>"
      ]
     },
     "metadata": {},
     "output_type": "display_data"
    }
   ],
   "source": [
    "plt.plot(a, data_MF['Open'], 'b', label = 'Open')\n",
    "plt.show()"
   ]
  },
  {
   "cell_type": "code",
   "execution_count": 91,
   "metadata": {},
   "outputs": [
    {
     "data": {
      "image/png": "[encoded data removed]",
      "text/plain": [
       "<matplotlib.figure.Figure at 0x975b080>"
      ]
     },
     "metadata": {},
     "output_type": "display_data"
    }
   ],
   "source": [
    "plt.plot(a, data_MF_USD, 'b', label = 'Open')\n",
    "plt.show()"
   ]
  },
  {
   "cell_type": "code",
   "execution_count": 92,
   "metadata": {},
   "outputs": [
    {
     "name": "stdout",
     "output_type": "stream",
     "text": [
      "(20140228, '  ', 3.6780747704711381)\n",
      "(20140313, '  ', 1.4347616421232559)\n",
      "(20140901, '  ', 1.8285473377853556)\n",
      "(20141107, '  ', 1.3035553448970454)\n",
      "(20141128, '  ', 1.1965836465910478)\n",
      "(20141203, '  ', 1.2290220513312242)\n",
      "(20141208, '  ', 0.92972078260736168)\n",
      "(20141216, '  ', 2.5370592121592974)\n",
      "(20141229, '  ', 1.4343932868128118)\n"
     ]
    }
   ],
   "source": [
    "for i in range(len(data_MF)-1):\n",
    "    if (data_MF['Open'][i]/dataUSD['USD'][i]-data_MF['Open'][i+1]/dataUSD['USD'][i+1])>(0.05*data_MF['Open'][i]/dataUSD['USD'][i]):\n",
    "        print (data_MF['Data'][i],'  ',data_MF['Open'][i]/dataUSD['USD'][i]-data_MF['Open'][i+1]/dataUSD['USD'][i+1])"
   ]
  },
  {
   "cell_type": "code",
   "execution_count": null,
   "metadata": {
    "collapsed": true
   },
   "outputs": [],
   "source": []
  },
  {
   "cell_type": "code",
   "execution_count": null,
   "metadata": {
    "collapsed": true
   },
   "outputs": [],
   "source": []
  },
  {
   "cell_type": "code",
   "execution_count": null,
   "metadata": {
    "collapsed": true
   },
   "outputs": [],
   "source": []
  },
  {
   "cell_type": "code",
   "execution_count": 93,
   "metadata": {
    "collapsed": true
   },
   "outputs": [],
   "source": [
    "data_RT_USD=[0]*241\n",
    "for i in range(241):\n",
    "    data_RT_USD[i]=data_RT['Open'][i]/dataUSD['USD'][i]"
   ]
  },
  {
   "cell_type": "code",
   "execution_count": 94,
   "metadata": {},
   "outputs": [
    {
     "data": {
      "image/png": "[encoded data removed]",
      "text/plain": [
       "<matplotlib.figure.Figure at 0xae28978>"
      ]
     },
     "metadata": {},
     "output_type": "display_data"
    }
   ],
   "source": [
    "plt.plot(b, data_RT['Open'], 'b', label = 'Open')\n",
    "plt.show()"
   ]
  },
  {
   "cell_type": "code",
   "execution_count": 95,
   "metadata": {},
   "outputs": [
    {
     "data": {
      "image/png": "[encoded data removed]",
      "text/plain": [
       "<matplotlib.figure.Figure at 0xb0bac50>"
      ]
     },
     "metadata": {},
     "output_type": "display_data"
    }
   ],
   "source": [
    "plt.plot(b, data_RT_USD, 'b', label = 'Open')\n",
    "plt.show()"
   ]
  },
  {
   "cell_type": "code",
   "execution_count": 96,
   "metadata": {},
   "outputs": [
    {
     "name": "stdout",
     "output_type": "stream",
     "text": [
      "(20140228, '  ', 0.24625359950741554)\n",
      "(20140312, '  ', 0.17008521303927848)\n",
      "(20141118, '  ', 0.15945801292712414)\n",
      "(20141120, '  ', 0.15927369296900551)\n",
      "(20141211, '  ', 0.15119879466609731)\n",
      "(20141217, '  ', 0.11299038950909424)\n"
     ]
    }
   ],
   "source": [
    "for i in range(len(data_RT)-1):\n",
    "    if (data_RT['Open'][i]/dataUSD['USD'][i]-data_RT['Open'][i+1]/dataUSD['USD'][i+1])>(0.05*data_RT['Open'][i]/dataUSD['USD'][i]):\n",
    "        print (data_RT['Data'][i],'  ',data_RT['Open'][i]/dataUSD['USD'][i]-data_RT['Open'][i+1]/dataUSD['USD'][i+1])"
   ]
  },
  {
   "cell_type": "code",
   "execution_count": null,
   "metadata": {
    "collapsed": true
   },
   "outputs": [],
   "source": []
  },
  {
   "cell_type": "code",
   "execution_count": null,
   "metadata": {
    "collapsed": true
   },
   "outputs": [],
   "source": []
  },
  {
   "cell_type": "code",
   "execution_count": null,
   "metadata": {
    "collapsed": true
   },
   "outputs": [],
   "source": []
  },
  {
   "cell_type": "code",
   "execution_count": 97,
   "metadata": {
    "collapsed": true
   },
   "outputs": [],
   "source": [
    "data_SB_USD=[0]*250\n",
    "for i in range(250):\n",
    "    data_SB_USD[i]=data_SB['Open'][i]/dataUSD['USD'][i]"
   ]
  },
  {
   "cell_type": "code",
   "execution_count": 98,
   "metadata": {},
   "outputs": [
    {
     "data": {
      "image/png": "[encoded data removed]",
      "text/plain": [
       "<matplotlib.figure.Figure at 0xb768b00>"
      ]
     },
     "metadata": {},
     "output_type": "display_data"
    }
   ],
   "source": [
    "plt.plot(a, data_SB['Open'], 'b', label = 'Open')\n",
    "plt.show()"
   ]
  },
  {
   "cell_type": "code",
   "execution_count": 99,
   "metadata": {},
   "outputs": [
    {
     "data": {
      "image/png": "[encoded data removed]",
      "text/plain": [
       "<matplotlib.figure.Figure at 0xb7cbcf8>"
      ]
     },
     "metadata": {},
     "output_type": "display_data"
    }
   ],
   "source": [
    "plt.plot(a, data_SB_USD, 'b', label = 'Open')\n",
    "plt.show()"
   ]
  },
  {
   "cell_type": "code",
   "execution_count": 100,
   "metadata": {},
   "outputs": [
    {
     "name": "stdout",
     "output_type": "stream",
     "text": [
      "(20140228, '  ', 0.14957887971960826)\n",
      "(20140303, '  ', 0.20033244378772563)\n",
      "(20140313, '  ', 0.15544454915711414)\n",
      "(20140425, '  ', 0.11551695731307077)\n",
      "(20141105, '  ', 0.10049645761758952)\n",
      "(20141203, '  ', 0.0878344886044371)\n",
      "(20141208, '  ', 0.087214783952132224)\n",
      "(20141212, '  ', 0.06845580359674508)\n",
      "(20141215, '  ', 0.10516364269312795)\n",
      "(20141216, '  ', 0.13606562001272748)\n",
      "(20141223, '  ', 0.063520461971270592)\n",
      "(20141229, '  ', 0.1596688694604812)\n"
     ]
    }
   ],
   "source": [
    "for i in range(len(data_SB)-1):\n",
    "    if (data_SB['Open'][i]/dataUSD['USD'][i]-data_SB['Open'][i+1]/dataUSD['USD'][i+1])>(0.05*data_SB['Open'][i]/dataUSD['USD'][i]):\n",
    "        print (data_SB['Data'][i],'  ',data_SB['Open'][i]/dataUSD['USD'][i]-data_SB['Open'][i+1]/dataUSD['USD'][i+1])"
   ]
  },
  {
   "cell_type": "code",
   "execution_count": null,
   "metadata": {
    "collapsed": true
   },
   "outputs": [],
   "source": []
  },
  {
   "cell_type": "code",
   "execution_count": null,
   "metadata": {
    "collapsed": true
   },
   "outputs": [],
   "source": []
  },
  {
   "cell_type": "code",
   "execution_count": null,
   "metadata": {
    "collapsed": true
   },
   "outputs": [],
   "source": []
  },
  {
   "cell_type": "code",
   "execution_count": 101,
   "metadata": {
    "collapsed": true
   },
   "outputs": [],
   "source": [
    "data_VTB_USD=[0]*250\n",
    "for i in range(250):\n",
    "    data_VTB_USD[i]=data_VTB['Open'][i]/dataUSD['USD'][i]"
   ]
  },
  {
   "cell_type": "code",
   "execution_count": 102,
   "metadata": {},
   "outputs": [
    {
     "data": {
      "image/png": "[encoded data removed]",
      "text/plain": [
       "<matplotlib.figure.Figure at 0xb768ef0>"
      ]
     },
     "metadata": {},
     "output_type": "display_data"
    }
   ],
   "source": [
    "plt.plot(a, data_VTB['Open'], 'b', label = 'Open')\n",
    "plt.show()"
   ]
  },
  {
   "cell_type": "code",
   "execution_count": 103,
   "metadata": {},
   "outputs": [
    {
     "data": {
      "image/png": "[encoded data removed]",
      "text/plain": [
       "<matplotlib.figure.Figure at 0xb0b2390>"
      ]
     },
     "metadata": {},
     "output_type": "display_data"
    }
   ],
   "source": [
    "plt.plot(a, data_VTB_USD, 'b', label = 'Open')\n",
    "plt.show()"
   ]
  },
  {
   "cell_type": "code",
   "execution_count": 104,
   "metadata": {},
   "outputs": [
    {
     "name": "stdout",
     "output_type": "stream",
     "text": [
      "(20140228, '  ', 6.8511954200052355e-05)\n",
      "(20140303, '  ', 0.00015004746169452392)\n",
      "(20140806, '  ', 6.6614240574387447e-05)\n",
      "(20141107, '  ', 4.7678674502442723e-05)\n",
      "(20141217, '  ', 0.00010401319773440363)\n",
      "(20141229, '  ', 0.00014707263153640655)\n"
     ]
    }
   ],
   "source": [
    "for i in range(len(data_VTB)-1):\n",
    "    if (data_VTB['Open'][i]/dataUSD['USD'][i]-data_VTB['Open'][i+1]/dataUSD['USD'][i+1])>(0.05*data_VTB['Open'][i]/dataUSD['USD'][i]):\n",
    "        print (data_VTB['Data'][i],'  ',data_VTB['Open'][i]/dataUSD['USD'][i]-data_VTB['Open'][i+1]/dataUSD['USD'][i+1])"
   ]
  },
  {
   "cell_type": "code",
   "execution_count": null,
   "metadata": {
    "collapsed": true
   },
   "outputs": [],
   "source": []
  },
  {
   "cell_type": "code",
   "execution_count": null,
   "metadata": {
    "collapsed": true
   },
   "outputs": [],
   "source": []
  },
  {
   "cell_type": "code",
   "execution_count": null,
   "metadata": {
    "collapsed": true
   },
   "outputs": [],
   "source": []
  },
  {
   "cell_type": "code",
   "execution_count": null,
   "metadata": {
    "collapsed": true
   },
   "outputs": [],
   "source": []
  },
  {
   "cell_type": "code",
   "execution_count": null,
   "metadata": {
    "collapsed": true
   },
   "outputs": [],
   "source": []
  },
  {
   "cell_type": "code",
   "execution_count": null,
   "metadata": {
    "collapsed": true
   },
   "outputs": [],
   "source": []
  },
  {
   "cell_type": "code",
   "execution_count": null,
   "metadata": {
    "collapsed": true
   },
   "outputs": [],
   "source": [
    "##в чем взять изменение ВВП России и США(в какой валюте или в % изменении)"
   ]
  },
  {
   "cell_type": "code",
   "execution_count": null,
   "metadata": {
    "collapsed": true
   },
   "outputs": [],
   "source": [
    "#что делать с фьючерсной стоимостью нефти"
   ]
  },
  {
   "cell_type": "code",
   "execution_count": null,
   "metadata": {
    "collapsed": true
   },
   "outputs": [],
   "source": [
    "#сглаживание через логарифмическую сильно приближает к одной прямой!!!"
   ]
  },
  {
   "cell_type": "code",
   "execution_count": 100,
   "metadata": {
    "collapsed": true
   },
   "outputs": [],
   "source": []
  },
  {
   "cell_type": "code",
   "execution_count": null,
   "metadata": {
    "collapsed": true
   },
   "outputs": [],
   "source": [
    "#корреляция мобильных операторов"
   ]
  },
  {
   "cell_type": "code",
   "execution_count": 105,
   "metadata": {
    "collapsed": true
   },
   "outputs": [],
   "source": [
    "from scipy.stats import pearsonr"
   ]
  },
  {
   "cell_type": "code",
   "execution_count": 107,
   "metadata": {},
   "outputs": [],
   "source": [
    "tmp=[0]*241\n",
    "for i in range(241):\n",
    "    tmp[i]=data_MF['Open'][i]"
   ]
  },
  {
   "cell_type": "code",
   "execution_count": 110,
   "metadata": {},
   "outputs": [
    {
     "data": {
      "text/plain": [
       "(0.61293137883801196, 2.9695499744278385e-26)"
      ]
     },
     "execution_count": 110,
     "metadata": {},
     "output_type": "execute_result"
    }
   ],
   "source": [
    "pearsonr(data_MTS['Open'], tmp)"
   ]
  },
  {
   "cell_type": "code",
   "execution_count": null,
   "metadata": {
    "collapsed": true
   },
   "outputs": [],
   "source": [
    "#корр пирсона + p-value"
   ]
  },
  {
   "cell_type": "code",
   "execution_count": null,
   "metadata": {
    "collapsed": true
   },
   "outputs": [],
   "source": []
  },
  {
   "cell_type": "code",
   "execution_count": null,
   "metadata": {
    "collapsed": true
   },
   "outputs": [],
   "source": [
    "#корреляция сбера к доллару"
   ]
  },
  {
   "cell_type": "code",
   "execution_count": 115,
   "metadata": {},
   "outputs": [
    {
     "data": {
      "text/plain": [
       "(-0.68167234067019877, 1.648449649144235e-35)"
      ]
     },
     "execution_count": 115,
     "metadata": {},
     "output_type": "execute_result"
    }
   ],
   "source": [
    "pearsonr(data_SB['Open'], dataUSD['USD'])"
   ]
  },
  {
   "cell_type": "code",
   "execution_count": null,
   "metadata": {
    "collapsed": true
   },
   "outputs": [],
   "source": []
  },
  {
   "cell_type": "code",
   "execution_count": null,
   "metadata": {
    "collapsed": true
   },
   "outputs": [],
   "source": [
    "#корреляция ВТБ к доллару"
   ]
  },
  {
   "cell_type": "code",
   "execution_count": 116,
   "metadata": {},
   "outputs": [
    {
     "data": {
      "text/plain": [
       "(0.52003611241573833, 1.0079098699399665e-18)"
      ]
     },
     "execution_count": 116,
     "metadata": {},
     "output_type": "execute_result"
    }
   ],
   "source": [
    "pearsonr(data_VTB['Open'], dataUSD['USD'])"
   ]
  },
  {
   "cell_type": "code",
   "execution_count": null,
   "metadata": {
    "collapsed": true
   },
   "outputs": [],
   "source": []
  },
  {
   "cell_type": "code",
   "execution_count": null,
   "metadata": {
    "collapsed": true
   },
   "outputs": [],
   "source": []
  },
  {
   "cell_type": "code",
   "execution_count": null,
   "metadata": {
    "collapsed": true
   },
   "outputs": [],
   "source": []
  }
 ],
 "metadata": {
  "kernelspec": {
   "display_name": "Python 2",
   "language": "python",
   "name": "python2"
  },
  "language_info": {
   "codemirror_mode": {
    "name": "ipython",
    "version": 2
   },
   "file_extension": ".py",
   "mimetype": "text/x-python",
   "name": "python",
   "nbconvert_exporter": "python",
   "pygments_lexer": "ipython2",
   "version": "2.7.14"
  }
 },
 "nbformat": 4,
 "nbformat_minor": 2
}
