{
 "cells": [
  {
   "cell_type": "code",
   "execution_count": 2,
   "metadata": {
    "collapsed": true
   },
   "outputs": [],
   "source": [
    "from urllib2 import urlopen # Для работы с адресами"
   ]
  },
  {
   "cell_type": "code",
   "execution_count": 3,
   "metadata": {
    "collapsed": true
   },
   "outputs": [],
   "source": [
    "##Нефтевики\n",
    "url_GP = \"http://export.finam.ru/SIBN_140101_150101.csv?market=1&em=2&code=SIBN&apply=0&df=1&mf=0&yf=2014&from=01.01.2014&dt=1&mt=0&yt=2015&to=01.01.2015&p=3&f=SIBN_140101_150101&e=.csv&cn=GazProm&dtf=1&tmf=1&MSOR=1&mstime=on&mstimever=1&sep=3&sep2=1&datf=1&at=1\"\n",
    "f = urlopen(url_GP)   # Открыли \n",
    "data_GP = f.read()   # Прочитали данные.\n",
    "f.close()          # Закрыли\n",
    "\n",
    "url_Lk = \"http://export.finam.ru/LKOH_140101_150101.csv?market=1&em=8&code=LKOH&apply=0&df=1&mf=0&yf=2014&from=01.01.2014&dt=1&mt=0&yt=2015&to=01.01.2015&p=3&f=LKOH_140101_150101&e=.csv&cn=LKOH&dtf=1&tmf=1&MSOR=1&mstime=on&mstimever=1&sep=1&sep2=1&datf=1&at=1\"\n",
    "f = urlopen(url_Lk)  \n",
    "data_Lk = f.read()   \n",
    "f.close()          \n",
    "\n",
    "url_RN = \"http://export.finam.ru/ROSN_140101_150101.csv?market=1&em=17273&code=ROSN&apply=0&df=1&mf=0&yf=2014&from=01.01.2014&dt=1&mt=0&yt=2015&to=01.01.2015&p=3&f=ROSN_140101_150101&e=.csv&cn=ROSN&dtf=1&tmf=1&MSOR=1&mstime=on&mstimever=1&sep=1&sep2=1&datf=1&at=1\"\n",
    "f = urlopen(url_RN)  \n",
    "data_RN = f.read()   \n",
    "f.close()          \n",
    "\n",
    "url_SN = \"http://export.finam.ru/SNGS_140101_150101.csv?market=1&em=4&code=SNGS&apply=0&df=1&mf=0&yf=2014&from=01.01.2014&dt=1&mt=0&yt=2015&to=01.01.2015&p=3&f=SNGS_140101_150101&e=.csv&cn=SNGS&dtf=1&tmf=1&MSOR=1&mstime=on&mstimever=1&sep=1&sep2=1&datf=1&at=1\"\n",
    "f = urlopen(url_SN)   \n",
    "data_SN = f.read()   \n",
    "f.close()          \n"
   ]
  },
  {
   "cell_type": "code",
   "execution_count": 4,
   "metadata": {
    "collapsed": true
   },
   "outputs": [],
   "source": [
    "##Сотовые операторы\n",
    "url_MTS = \"http://export.finam.ru/MTSS_140101_150101.csv?market=1&em=15523&code=MTSS&apply=0&df=1&mf=0&yf=2014&from=01.01.2014&dt=1&mt=0&yt=2015&to=01.01.2015&p=3&f=MTSS_140101_150101&e=.csv&cn=MTSS&dtf=1&tmf=1&MSOR=1&mstime=on&mstimever=1&sep=1&sep2=1&datf=1&at=1\"\n",
    "f = urlopen(url_MTS)   \n",
    "data_MTS = f.read()   \n",
    "f.close()       \n",
    "\n",
    "url_MF = \"http://export.finam.ru/MFON_140101_150101.csv?market=1&em=152516&code=MFON&apply=0&df=1&mf=0&yf=2014&from=01.01.2014&dt=1&mt=0&yt=2015&to=01.01.2015&p=3&f=MFON_140101_150101&e=.csv&cn=MFON&dtf=1&tmf=1&MSOR=1&mstime=on&mstimever=1&sep=1&sep2=1&datf=1&at=1\"\n",
    "f = urlopen(url_MF)   \n",
    "data_MF = f.read()   \n",
    "f.close()\n"
   ]
  },
  {
   "cell_type": "code",
   "execution_count": 5,
   "metadata": {
    "collapsed": true
   },
   "outputs": [],
   "source": [
    "##Банки\n",
    "url_VTB = \"http://export.finam.ru/VTBR_140101_150101.csv?market=1&em=19043&code=VTBR&apply=0&df=1&mf=0&yf=2014&from=01.01.2014&dt=1&mt=0&yt=2015&to=01.01.2015&p=3&f=VTBR_140101_150101&e=.csv&cn=VTBR&dtf=1&tmf=1&MSOR=1&mstime=on&mstimever=1&sep=1&sep2=1&datf=1&at=1\"\n",
    "f = urlopen(url_VTB)   \n",
    "data_VTB = f.read()   \n",
    "f.close()      \n",
    "\n",
    "url_RB = \"http://export.finam.ru/ROSB_140101_150101.csv?market=1&em=16866&code=ROSB&apply=0&df=1&mf=0&yf=2014&from=01.01.2014&dt=1&mt=0&yt=2015&to=01.01.2015&p=3&f=ROSB_140101_150101&e=.csv&cn=ROSB&dtf=1&tmf=1&MSOR=1&mstime=on&mstimever=1&sep=1&sep2=1&datf=1&at=1\"\n",
    "f = urlopen(url_RB)   \n",
    "data_RB = f.read()   \n",
    "f.close()   \n",
    "\n",
    "url_SB = \"http://export.finam.ru/SBER_140101_150101.csv?market=1&em=3&code=SBER&apply=0&df=1&mf=0&yf=2014&from=01.01.2014&dt=1&mt=0&yt=2015&to=01.01.2015&p=3&f=SBER_140101_150101&e=.csv&cn=SBER&dtf=1&tmf=1&MSOR=1&mstime=on&mstimever=1&sep=1&sep2=1&datf=1&at=1\"\n",
    "f = urlopen(url_SB)   \n",
    "data_SB = f.read()   \n",
    "f.close()   \n"
   ]
  },
  {
   "cell_type": "code",
   "execution_count": 6,
   "metadata": {
    "collapsed": true
   },
   "outputs": [],
   "source": [
    "from pandas import DataFrame, read_csv  # Стандартный DataFrame\n",
    "from pandas import set_option\n",
    "import matplotlib.pyplot as plt"
   ]
  },
  {
   "cell_type": "code",
   "execution_count": 7,
   "metadata": {
    "collapsed": true
   },
   "outputs": [],
   "source": [
    "##Табличка по Газпрому\n",
    "data_GP = read_csv(url_GP, header=0, index_col=0, parse_dates={'': [0, 1]}, sep=';').sort_index()\n",
    "data_GP.columns = ['' + i for i in ['Data','Time','Open', 'High', 'Low', 'Close', 'Volume']] # Заголовки столбцов\n",
    "\n",
    "\n",
    "set_option('display.max_columns', 50) # Кол-во колонок\n",
    "set_option('display.width', 500)      # Ширина поля вывода\n",
    "                                  "
   ]
  },
  {
   "cell_type": "code",
   "execution_count": 8,
   "metadata": {},
   "outputs": [
    {
     "name": "stdout",
     "output_type": "stream",
     "text": [
      "               Data    Time    Open    High     Low   Close  Volume\n",
      "                                                                   \n",
      "GazProm 5  20140106  102500  146.84  147.38  146.51  147.38     510\n",
      "GazProm 5  20140106  103000  147.37  147.37  147.37  147.37      10\n",
      "GazProm 5  20140106  104500  147.35  147.37  146.77  146.77     370\n",
      "GazProm 5  20140106  105000  146.81  146.81  146.81  146.81      10\n",
      "GazProm 5  20140106  110500  146.79  146.79  146.70  146.72    2180\n"
     ]
    }
   ],
   "source": [
    "print(data_GP.head())"
   ]
  },
  {
   "cell_type": "code",
   "execution_count": 9,
   "metadata": {},
   "outputs": [
    {
     "data": {
      "text/plain": [
       "19195"
      ]
     },
     "execution_count": 9,
     "metadata": {},
     "output_type": "execute_result"
    }
   ],
   "source": [
    "len(data_GP)"
   ]
  },
  {
   "cell_type": "code",
   "execution_count": 10,
   "metadata": {
    "collapsed": true
   },
   "outputs": [],
   "source": [
    "##Табличка по Лукойлу\n",
    "data_Lk = read_csv(url_Lk, header=0, index_col=0, parse_dates={'': [0, 1]}, sep=',').sort_index()\n",
    "data_Lk.columns = ['' + i for i in ['Data','Time','Open', 'High', 'Low', 'Close', 'Volume']] # Заголовки столбцов\n",
    "\n",
    "\n",
    "set_option('display.max_columns', 50) # Кол-во колонок\n",
    "set_option('display.width', 500)      # Ширина поля вывода\n",
    "                                   "
   ]
  },
  {
   "cell_type": "code",
   "execution_count": 11,
   "metadata": {},
   "outputs": [
    {
     "name": "stdout",
     "output_type": "stream",
     "text": [
      "            Data    Time    Open    High     Low   Close  Volume\n",
      "                                                                \n",
      "LKOH 5  20140106  100500  2017.9  2023.0  2010.2  2014.0    8472\n",
      "LKOH 5  20140106  101000  2015.5  2016.9  2012.6  2014.1    4462\n",
      "LKOH 5  20140106  101500  2016.8  2017.4  2011.8  2011.8    3690\n",
      "LKOH 5  20140106  102000  2012.2  2013.7  2010.1  2012.5    4943\n",
      "LKOH 5  20140106  102500  2011.8  2013.7  2010.6  2010.6    2487\n"
     ]
    }
   ],
   "source": [
    "print(data_Lk.head())  # Вывод верха таблицы"
   ]
  },
  {
   "cell_type": "code",
   "execution_count": 12,
   "metadata": {},
   "outputs": [
    {
     "data": {
      "text/plain": [
       "26160"
      ]
     },
     "execution_count": 12,
     "metadata": {},
     "output_type": "execute_result"
    }
   ],
   "source": [
    "len(data_Lk)"
   ]
  },
  {
   "cell_type": "code",
   "execution_count": 13,
   "metadata": {
    "collapsed": true
   },
   "outputs": [],
   "source": [
    "##Табличка по РосНефти\n",
    "data_RN = read_csv(url_RN, header=0, index_col=0, parse_dates={'': [0, 1]}, sep=',').sort_index()\n",
    "data_RN.columns = ['' + i for i in ['Data','Time','Open', 'High', 'Low', 'Close', 'Volume']] # Заголовки столбцов\n",
    "\n",
    "\n",
    "set_option('display.max_columns', 50) # Кол-во колонок\n",
    "set_option('display.width', 500)      # Ширина поля вывода\n"
   ]
  },
  {
   "cell_type": "code",
   "execution_count": 14,
   "metadata": {},
   "outputs": [
    {
     "name": "stdout",
     "output_type": "stream",
     "text": [
      "            Data    Time    Open    High     Low   Close  Volume\n",
      "                                                                \n",
      "ROSN 5  20140106  100500  247.10  248.00  243.10  245.57  378710\n",
      "ROSN 5  20140106  101000  245.58  245.90  245.16  245.50   27990\n",
      "ROSN 5  20140106  101500  245.70  246.00  245.26  245.51   57340\n",
      "ROSN 5  20140106  102000  245.51  245.69  245.21  245.50   41990\n",
      "ROSN 5  20140106  102500  245.60  245.90  245.27  245.27   52370\n"
     ]
    }
   ],
   "source": [
    "print(data_RN.head())  # Вывод верха таблицы"
   ]
  },
  {
   "cell_type": "code",
   "execution_count": 15,
   "metadata": {},
   "outputs": [
    {
     "data": {
      "text/plain": [
       "26154"
      ]
     },
     "execution_count": 15,
     "metadata": {},
     "output_type": "execute_result"
    }
   ],
   "source": [
    "len(data_RN)"
   ]
  },
  {
   "cell_type": "code",
   "execution_count": 16,
   "metadata": {
    "collapsed": true
   },
   "outputs": [],
   "source": [
    "##Табличка по СургутНефть\n",
    "data_SN = read_csv(url_SN, header=0, index_col=0, parse_dates={'': [0, 1]}, sep=',').sort_index()\n",
    "data_SN.columns = ['' + i for i in ['Data','Time','Open', 'High', 'Low', 'Close', 'Volume']] # Заголовки столбцов\n",
    "\n",
    "\n",
    "set_option('display.max_columns', 50) # Кол-во колонок\n",
    "set_option('display.width', 500)      # Ширина поля вывода\n"
   ]
  },
  {
   "cell_type": "code",
   "execution_count": 17,
   "metadata": {},
   "outputs": [
    {
     "name": "stdout",
     "output_type": "stream",
     "text": [
      "            Data    Time    Open    High     Low   Close  Volume\n",
      "                                                                \n",
      "SNGS 5  20140106  100500  28.200  28.250  27.911  27.930  445900\n",
      "SNGS 5  20140106  101000  27.971  28.048  27.910  27.925  160600\n",
      "SNGS 5  20140106  101500  27.949  27.949  27.864  27.887  151700\n",
      "SNGS 5  20140106  102000  27.877  27.888  27.820  27.888  198100\n",
      "SNGS 5  20140106  102500  27.888  27.900  27.850  27.892  158100\n"
     ]
    }
   ],
   "source": [
    "print(data_SN.head())  # Вывод верха таблицы"
   ]
  },
  {
   "cell_type": "code",
   "execution_count": 18,
   "metadata": {},
   "outputs": [
    {
     "data": {
      "text/plain": [
       "26137"
      ]
     },
     "execution_count": 18,
     "metadata": {},
     "output_type": "execute_result"
    }
   ],
   "source": [
    "len(data_SN)"
   ]
  },
  {
   "cell_type": "code",
   "execution_count": 19,
   "metadata": {
    "collapsed": true
   },
   "outputs": [],
   "source": [
    "##Табличка по МТС\n",
    "data_MTS = read_csv(url_MTS, header=0, index_col=0, parse_dates={'': [0, 1]}, sep=',').sort_index()\n",
    "data_MTS.columns = ['' + i for i in ['Data','Time','Open', 'High', 'Low', 'Close', 'Volume']] # Заголовки столбцов\n",
    "\n",
    "\n",
    "set_option('display.max_columns', 50) # Кол-во колонок\n",
    "set_option('display.width', 500)      # Ширина поля вывода\n"
   ]
  },
  {
   "cell_type": "code",
   "execution_count": 20,
   "metadata": {},
   "outputs": [
    {
     "name": "stdout",
     "output_type": "stream",
     "text": [
      "            Data    Time    Open    High     Low   Close  Volume\n",
      "                                                                \n",
      "MTSS 5  20140106  100500  323.57  325.45  323.51  324.11    9090\n",
      "MTSS 5  20140106  101000  324.20  324.20  323.28  323.28    9450\n",
      "MTSS 5  20140106  101500  323.69  324.07  322.70  322.93   10980\n",
      "MTSS 5  20140106  102000  322.93  323.03  321.40  322.13   20730\n",
      "MTSS 5  20140106  102500  322.22  323.94  322.18  323.00    7410\n"
     ]
    }
   ],
   "source": [
    "print(data_MTS.head())  # Вывод верха таблицы"
   ]
  },
  {
   "cell_type": "code",
   "execution_count": 21,
   "metadata": {},
   "outputs": [
    {
     "data": {
      "text/plain": [
       "25186"
      ]
     },
     "execution_count": 21,
     "metadata": {},
     "output_type": "execute_result"
    }
   ],
   "source": [
    "len(data_MTS)"
   ]
  },
  {
   "cell_type": "code",
   "execution_count": 22,
   "metadata": {
    "collapsed": true
   },
   "outputs": [],
   "source": [
    "##Табличка по Мегафону\n",
    "data_MF = read_csv(url_MF, header=0, index_col=0, parse_dates={'': [0, 1]}, sep=',').sort_index()\n",
    "data_MF.columns = ['' + i for i in ['Data','Time','Open', 'High', 'Low', 'Close', 'Volume']] # Заголовки столбцов\n",
    "\n",
    "\n",
    "set_option('display.max_columns', 50) # Кол-во колонок\n",
    "set_option('display.width', 500)      # Ширина поля вывода\n"
   ]
  },
  {
   "cell_type": "code",
   "execution_count": 23,
   "metadata": {},
   "outputs": [
    {
     "name": "stdout",
     "output_type": "stream",
     "text": [
      "            Data    Time    Open    High     Low   Close  Volume\n",
      "                                                                \n",
      "MFON 5  20140106  101000  1087.1  1087.1  1085.7  1085.7     360\n",
      "MFON 5  20140106  101500  1086.0  1099.9  1085.6  1085.6     610\n",
      "MFON 5  20140106  102000  1085.6  1085.7  1085.5  1085.5     510\n",
      "MFON 5  20140106  102500  1085.6  1085.6  1085.6  1085.6      20\n",
      "MFON 5  20140106  105000  1092.9  1099.2  1092.9  1099.2     180\n"
     ]
    }
   ],
   "source": [
    "print(data_MF.head())  # Вывод верха таблицы"
   ]
  },
  {
   "cell_type": "code",
   "execution_count": 24,
   "metadata": {},
   "outputs": [
    {
     "data": {
      "text/plain": [
       "15560"
      ]
     },
     "execution_count": 24,
     "metadata": {},
     "output_type": "execute_result"
    }
   ],
   "source": [
    "len(data_MF)"
   ]
  },
  {
   "cell_type": "code",
   "execution_count": 25,
   "metadata": {
    "collapsed": true
   },
   "outputs": [],
   "source": [
    "##Табличка по ВТБ\n",
    "data_VTB = read_csv(url_VTB, header=0, index_col=0, parse_dates={'': [0, 1]}, sep=',').sort_index()\n",
    "data_VTB.columns = ['' + i for i in ['Data','Time','Open', 'High', 'Low', 'Close', 'Volume']] # Заголовки столбцов\n",
    "\n",
    "\n",
    "set_option('display.max_columns', 50) # Кол-во колонок\n",
    "set_option('display.width', 500)      # Ширина поля вывода\n"
   ]
  },
  {
   "cell_type": "code",
   "execution_count": 26,
   "metadata": {},
   "outputs": [
    {
     "name": "stdout",
     "output_type": "stream",
     "text": [
      "            Data    Time     Open     High      Low    Close     Volume\n",
      "                                                                       \n",
      "VTBR 5  20140106  100500  0.04930  0.04950  0.04905  0.04919  286490000\n",
      "VTBR 5  20140106  101000  0.04919  0.04930  0.04918  0.04920  120420000\n",
      "VTBR 5  20140106  101500  0.04921  0.04926  0.04920  0.04921  105940000\n",
      "VTBR 5  20140106  102000  0.04921  0.04923  0.04910  0.04916  259780000\n",
      "VTBR 5  20140106  102500  0.04916  0.04916  0.04910  0.04914   48480000\n"
     ]
    }
   ],
   "source": [
    "print(data_VTB.head())  # Вывод верха таблицы"
   ]
  },
  {
   "cell_type": "code",
   "execution_count": 27,
   "metadata": {},
   "outputs": [
    {
     "data": {
      "text/plain": [
       "26162"
      ]
     },
     "execution_count": 27,
     "metadata": {},
     "output_type": "execute_result"
    }
   ],
   "source": [
    "len(data_VTB)"
   ]
  },
  {
   "cell_type": "code",
   "execution_count": 28,
   "metadata": {
    "collapsed": true
   },
   "outputs": [],
   "source": [
    "##Табличка по РусБанк\n",
    "data_RB = read_csv(url_RB, header=0, index_col=0, parse_dates={'': [0, 1]}, sep=',').sort_index()\n",
    "data_RB.columns = ['' + i for i in ['Data','Time','Open', 'High', 'Low', 'Close', 'Volume']] # Заголовки столбцов\n",
    "\n",
    "\n",
    "set_option('display.max_columns', 50) # Кол-во колонок\n",
    "set_option('display.width', 500)      # Ширина поля вывода\n"
   ]
  },
  {
   "cell_type": "code",
   "execution_count": 29,
   "metadata": {},
   "outputs": [
    {
     "name": "stdout",
     "output_type": "stream",
     "text": [
      "            Data    Time   Open   High    Low  Close  Volume\n",
      "                                                            \n",
      "ROSB 5  20140106  112000  46.00  46.00  46.00  46.00      10\n",
      "ROSB 5  20140106  121500  45.01  45.01  45.01  45.01      10\n",
      "ROSB 5  20140106  123000  45.50  45.50  45.50  45.50      30\n",
      "ROSB 5  20140106  132500  45.50  45.50  45.50  45.50     120\n",
      "ROSB 5  20140106  155500  45.58  45.58  45.58  45.58      10\n"
     ]
    }
   ],
   "source": [
    "print(data_RB.head())  # Вывод верха таблицы"
   ]
  },
  {
   "cell_type": "code",
   "execution_count": 30,
   "metadata": {},
   "outputs": [
    {
     "data": {
      "text/plain": [
       "2342"
      ]
     },
     "execution_count": 30,
     "metadata": {},
     "output_type": "execute_result"
    }
   ],
   "source": [
    "len(data_RB)"
   ]
  },
  {
   "cell_type": "code",
   "execution_count": 31,
   "metadata": {
    "collapsed": true
   },
   "outputs": [],
   "source": [
    "##Табличка по СберБанку\n",
    "data_SB = read_csv(url_SB, header=0, index_col=0, parse_dates={'': [0, 1]}, sep=',').sort_index()\n",
    "data_SB.columns = ['' + i for i in ['Data','Time','Open', 'High', 'Low', 'Close', 'Volume']] # Заголовки столбцов\n",
    "\n",
    "\n",
    "set_option('display.max_columns', 50) # Кол-во колонок\n",
    "set_option('display.width', 500)      # Ширина поля вывода\n"
   ]
  },
  {
   "cell_type": "code",
   "execution_count": 32,
   "metadata": {},
   "outputs": [
    {
     "name": "stdout",
     "output_type": "stream",
     "text": [
      "            Data    Time    Open    High    Low   Close  Volume\n",
      "                                                               \n",
      "SBER 5  20140106  100500  100.20  100.31  99.70   99.82  914080\n",
      "SBER 5  20140106  101000   99.81  100.01  99.79   99.96  280670\n",
      "SBER 5  20140106  101500   99.96   99.99  99.90   99.96  152880\n",
      "SBER 5  20140106  102000   99.96  100.06  99.91  100.06  458290\n",
      "SBER 5  20140106  102500  100.05  100.10  99.97  100.07  142660\n"
     ]
    }
   ],
   "source": [
    "print(data_SB.head())  # Вывод верха таблицы"
   ]
  },
  {
   "cell_type": "code",
   "execution_count": 33,
   "metadata": {},
   "outputs": [
    {
     "data": {
      "text/plain": [
       "26163"
      ]
     },
     "execution_count": 33,
     "metadata": {},
     "output_type": "execute_result"
    }
   ],
   "source": [
    "len(data_SB)"
   ]
  },
  {
   "cell_type": "code",
   "execution_count": 108,
   "metadata": {},
   "outputs": [
    {
     "data": {
      "image/png": "[encoded data removed]",
      "text/plain": [
       "<matplotlib.figure.Figure at 0xf441780>"
      ]
     },
     "metadata": {},
     "output_type": "display_data"
    }
   ],
   "source": [
    "plt.plot(data_GP['Data'], data_GP['Open'], 'b', label = 'Open')\n",
    "plt.show()"
   ]
  },
  {
   "cell_type": "code",
   "execution_count": 109,
   "metadata": {},
   "outputs": [
    {
     "data": {
      "image/png": "[encoded data removed]",
      "text/plain": [
       "<matplotlib.figure.Figure at 0xf441ba8>"
      ]
     },
     "metadata": {},
     "output_type": "display_data"
    }
   ],
   "source": [
    "plt.plot(data_GP['Data'], data_GP['High'], 'r', label = 'High')\n",
    "plt.show()"
   ]
  },
  {
   "cell_type": "code",
   "execution_count": 110,
   "metadata": {},
   "outputs": [
    {
     "data": {
      "image/png": "[encoded data removed]",
      "text/plain": [
       "<matplotlib.figure.Figure at 0x110dc3c8>"
      ]
     },
     "metadata": {},
     "output_type": "display_data"
    }
   ],
   "source": [
    "plt.plot(data_GP['Data'], data_GP['Low'], 'g', label = 'Low')\n",
    "plt.show()"
   ]
  },
  {
   "cell_type": "code",
   "execution_count": 111,
   "metadata": {},
   "outputs": [
    {
     "data": {
      "image/png": "[encoded data removed]",
      "text/plain": [
       "<matplotlib.figure.Figure at 0x10d219e8>"
      ]
     },
     "metadata": {},
     "output_type": "display_data"
    }
   ],
   "source": [
    "plt.plot(data_GP['Data'], data_GP['Close'], 'y', label = 'Close')\n",
    "plt.show()"
   ]
  },
  {
   "cell_type": "code",
   "execution_count": 115,
   "metadata": {},
   "outputs": [
    {
     "data": {
      "image/png": "[encoded data removed]",
      "text/plain": [
       "<matplotlib.figure.Figure at 0x104e84a8>"
      ]
     },
     "metadata": {},
     "output_type": "display_data"
    }
   ],
   "source": [
    "plt.plot(data_GP['Data'], data_GP['Volume'], 'black', label = 'Volume')\n",
    "plt.show()"
   ]
  },
  {
   "cell_type": "code",
   "execution_count": 88,
   "metadata": {},
   "outputs": [
    {
     "data": {
      "text/plain": [
       "\n",
       "GazProm 5    20140106\n",
       "GazProm 5    20140106\n",
       "GazProm 5    20140106\n",
       "GazProm 5    20140106\n",
       "GazProm 5    20140106\n",
       "GazProm 5    20140106\n",
       "GazProm 5    20140106\n",
       "GazProm 5    20140106\n",
       "GazProm 5    20140106\n",
       "GazProm 5    20140106\n",
       "GazProm 5    20140106\n",
       "GazProm 5    20140106\n",
       "GazProm 5    20140106\n",
       "GazProm 5    20140106\n",
       "GazProm 5    20140106\n",
       "GazProm 5    20140106\n",
       "GazProm 5    20140106\n",
       "GazProm 5    20140106\n",
       "GazProm 5    20140106\n",
       "GazProm 5    20140106\n",
       "GazProm 5    20140106\n",
       "GazProm 5    20140106\n",
       "GazProm 5    20140106\n",
       "GazProm 5    20140106\n",
       "GazProm 5    20140106\n",
       "GazProm 5    20140106\n",
       "GazProm 5    20140106\n",
       "GazProm 5    20140106\n",
       "GazProm 5    20140106\n",
       "GazProm 5    20140106\n",
       "               ...   \n",
       "GazProm 5    20141230\n",
       "GazProm 5    20141230\n",
       "GazProm 5    20141230\n",
       "GazProm 5    20141230\n",
       "GazProm 5    20141230\n",
       "GazProm 5    20141230\n",
       "GazProm 5    20141230\n",
       "GazProm 5    20141230\n",
       "GazProm 5    20141230\n",
       "GazProm 5    20141230\n",
       "GazProm 5    20141230\n",
       "GazProm 5    20141230\n",
       "GazProm 5    20141230\n",
       "GazProm 5    20141230\n",
       "GazProm 5    20141230\n",
       "GazProm 5    20141230\n",
       "GazProm 5    20141230\n",
       "GazProm 5    20141230\n",
       "GazProm 5    20141230\n",
       "GazProm 5    20141230\n",
       "GazProm 5    20141230\n",
       "GazProm 5    20141230\n",
       "GazProm 5    20141230\n",
       "GazProm 5    20141230\n",
       "GazProm 5    20141230\n",
       "GazProm 5    20141230\n",
       "GazProm 5    20141230\n",
       "GazProm 5    20141230\n",
       "GazProm 5    20141230\n",
       "GazProm 5    20141230\n",
       "Name: Data, Length: 19195, dtype: int64"
      ]
     },
     "execution_count": 88,
     "metadata": {},
     "output_type": "execute_result"
    }
   ],
   "source": [
    "data_GP['Data']"
   ]
  },
  {
   "cell_type": "code",
   "execution_count": null,
   "metadata": {
    "collapsed": true
   },
   "outputs": [],
   "source": []
  },
  {
   "cell_type": "code",
   "execution_count": null,
   "metadata": {
    "collapsed": true
   },
   "outputs": [],
   "source": []
  }
 ],
 "metadata": {
  "kernelspec": {
   "display_name": "Python 2",
   "language": "python",
   "name": "python2"
  },
  "language_info": {
   "codemirror_mode": {
    "name": "ipython",
    "version": 2
   },
   "file_extension": ".py",
   "mimetype": "text/x-python",
   "name": "python",
   "nbconvert_exporter": "python",
   "pygments_lexer": "ipython2",
   "version": "2.7.14"
  }
 },
 "nbformat": 4,
 "nbformat_minor": 2
}
